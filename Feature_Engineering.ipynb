{
 "cells": [
  {
   "cell_type": "markdown",
   "id": "b45a21f4",
   "metadata": {},
   "source": [
    "# Spam Email detection: Feature Engineering\n",
    "Prepared By Deepa Francis<br>\n",
    "For BrainStation<br>\n",
    "On July 31, 2023"
   ]
  },
  {
   "cell_type": "markdown",
   "id": "0714281f",
   "metadata": {},
   "source": [
    "# Table of Contents<br>\n",
    "\n",
    "[1. Features](#ft) <br>\n",
    "[2. Feature 1: email_to](#et) <br>\n",
    "- [2.1. xxx](#et1) <br>\n",
    "\n",
    "[3. Feature 2: email_from](#ef) <br>\n",
    "- [3.1. xxx](#ef1) <br>\n",
    "[4. Numerical Features](#nf) <br>\n",
    "[5. Feature 3: subject](#sub) <br>\n",
    "[6. Feature 4: message](#msg) <br>"
   ]
  },
  {
   "cell_type": "code",
   "execution_count": 32,
   "id": "6c446762",
   "metadata": {},
   "outputs": [
    {
     "name": "stderr",
     "output_type": "stream",
     "text": [
      "[nltk_data] Downloading package stopwords to\n",
      "[nltk_data]     C:\\Users\\franc\\AppData\\Roaming\\nltk_data...\n",
      "[nltk_data]   Package stopwords is already up-to-date!\n"
     ]
    }
   ],
   "source": [
    "# import relevant packages\n",
    "import pandas as pd\n",
    "import numpy as np\n",
    "import matplotlib.pyplot as plt\n",
    "import seaborn as sns\n",
    "import statsmodels.api as sm\n",
    "from scipy import stats\n",
    "from scipy.stats import norm\n",
    "\n",
    "from sklearn.preprocessing import OneHotEncoder\n",
    "from sklearn.model_selection import train_test_split\n",
    "from sklearn.feature_extraction.text import CountVectorizer\n",
    "from sklearn.linear_model import LogisticRegression\n",
    "from sklearn.metrics import accuracy_score\n",
    "from sklearn.pipeline import Pipeline\n",
    "from sklearn.feature_extraction.text import TfidfVectorizer\n",
    "\n",
    "import warnings\n",
    "warnings.filterwarnings('ignore')\n",
    "\n",
    "import re\n",
    "import string\n",
    "import nltk\n",
    "nltk.download('stopwords')\n",
    "from nltk.corpus import stopwords \n",
    "\n",
    "# display all columns in dataframe\n",
    "pd.set_option('display.max_columns', None)"
   ]
  },
  {
   "cell_type": "code",
   "execution_count": 60,
   "id": "53d8e5fc",
   "metadata": {},
   "outputs": [],
   "source": [
    "# Functions used in the notebook\n",
    "\n",
    "#1# Create function for concatenating two dataframes and dropping specific columns from them\n",
    "def concat_and_drop(df1, df2, columns_to_drop):\n",
    "    df1.reset_index(drop=True, inplace=True)\n",
    "    df1 = pd.concat([df1, df2], axis=1)\n",
    "    df1 = df1.drop(columns=columns_to_drop)\n",
    "    return df1 "
   ]
  },
  {
   "cell_type": "code",
   "execution_count": 33,
   "id": "f4595b85",
   "metadata": {},
   "outputs": [],
   "source": [
    "# Load the sampled data\n",
    "sampled_data = pd.read_csv('sampled_data.csv') "
   ]
  },
  {
   "cell_type": "code",
   "execution_count": 34,
   "id": "160fe062",
   "metadata": {},
   "outputs": [],
   "source": [
    "# Instantiate sample features and target\n",
    "X_sample = sampled_data.drop(columns=\"label\")\n",
    "y_sample = sampled_data[\"label\"]"
   ]
  },
  {
   "cell_type": "code",
   "execution_count": 35,
   "id": "893f83ed",
   "metadata": {},
   "outputs": [
    {
     "name": "stdout",
     "output_type": "stream",
     "text": [
      "The shape of Features:  (40000, 4)\n",
      "The shape of Target:  (40000,)\n"
     ]
    }
   ],
   "source": [
    "# Check the shapes of feature and target\n",
    "print('The shape of Features: ', X_sample.shape)\n",
    "print('The shape of Target: ', y_sample.shape)"
   ]
  },
  {
   "cell_type": "code",
   "execution_count": 36,
   "id": "9596b736",
   "metadata": {},
   "outputs": [
    {
     "data": {
      "text/html": [
       "<div>\n",
       "<style scoped>\n",
       "    .dataframe tbody tr th:only-of-type {\n",
       "        vertical-align: middle;\n",
       "    }\n",
       "\n",
       "    .dataframe tbody tr th {\n",
       "        vertical-align: top;\n",
       "    }\n",
       "\n",
       "    .dataframe thead th {\n",
       "        text-align: right;\n",
       "    }\n",
       "</style>\n",
       "<table border=\"1\" class=\"dataframe\">\n",
       "  <thead>\n",
       "    <tr style=\"text-align: right;\">\n",
       "      <th></th>\n",
       "      <th>subject</th>\n",
       "      <th>email_to</th>\n",
       "      <th>email_from</th>\n",
       "      <th>message</th>\n",
       "    </tr>\n",
       "  </thead>\n",
       "  <tbody>\n",
       "    <tr>\n",
       "      <th>0</th>\n",
       "      <td>Re: [sugar] new Sugar dependency: libtelepathy...</td>\n",
       "      <td>sugar@laptop.org</td>\n",
       "      <td>Dafydd Harries &lt;daf@rhydd.org&gt;</td>\n",
       "      <td>Content-Type: text/plain; charset=us-ascii\\nCo...</td>\n",
       "    </tr>\n",
       "    <tr>\n",
       "      <th>1</th>\n",
       "      <td>Rev 307: enable TCP keepalives in http://samba...</td>\n",
       "      <td>samba-cvs@samba.org</td>\n",
       "      <td>tridge@samba.org</td>\n",
       "      <td>----------------------------------------------...</td>\n",
       "    </tr>\n",
       "    <tr>\n",
       "      <th>2</th>\n",
       "      <td>[perl #43105] [PATCH] function mmd.c::mmd_expa...</td>\n",
       "      <td>\"OtherRecipients of perl Ticket #43105\": ;</td>\n",
       "      <td>\"Bernhard Schmalhofer via RT\" &lt;parrotbug-follo...</td>\n",
       "      <td>&gt; &gt; What happens when NULL is not a consective...</td>\n",
       "    </tr>\n",
       "    <tr>\n",
       "      <th>3</th>\n",
       "      <td>Re: [R] Appropriate regression model for categ...</td>\n",
       "      <td>R-help@stat.math.ethz.ch</td>\n",
       "      <td>Robert A LaBudde &lt;ral@lcfltd.com&gt;</td>\n",
       "      <td>At 01:45 PM 6/12/2007, Tirtha wrote:\\n&gt;Dear us...</td>\n",
       "    </tr>\n",
       "    <tr>\n",
       "      <th>4</th>\n",
       "      <td>TONIGHT ON SHOWBIZ TONIGHT - CNN HEADLINE PRIM...</td>\n",
       "      <td>ktwarwic@flax9.UWATERLOO.CA</td>\n",
       "      <td>Showbiz Tonight &lt;showbiz@mail.cnn.com&gt;</td>\n",
       "      <td>Content-type: text/plain; charset=\"US-ASCII\" T...</td>\n",
       "    </tr>\n",
       "  </tbody>\n",
       "</table>\n",
       "</div>"
      ],
      "text/plain": [
       "                                             subject  \\\n",
       "0  Re: [sugar] new Sugar dependency: libtelepathy...   \n",
       "1  Rev 307: enable TCP keepalives in http://samba...   \n",
       "2  [perl #43105] [PATCH] function mmd.c::mmd_expa...   \n",
       "3  Re: [R] Appropriate regression model for categ...   \n",
       "4  TONIGHT ON SHOWBIZ TONIGHT - CNN HEADLINE PRIM...   \n",
       "\n",
       "                                     email_to  \\\n",
       "0                            sugar@laptop.org   \n",
       "1                         samba-cvs@samba.org   \n",
       "2  \"OtherRecipients of perl Ticket #43105\": ;   \n",
       "3                    R-help@stat.math.ethz.ch   \n",
       "4                 ktwarwic@flax9.UWATERLOO.CA   \n",
       "\n",
       "                                          email_from  \\\n",
       "0                     Dafydd Harries <daf@rhydd.org>   \n",
       "1                                   tridge@samba.org   \n",
       "2  \"Bernhard Schmalhofer via RT\" <parrotbug-follo...   \n",
       "3                  Robert A LaBudde <ral@lcfltd.com>   \n",
       "4             Showbiz Tonight <showbiz@mail.cnn.com>   \n",
       "\n",
       "                                             message  \n",
       "0  Content-Type: text/plain; charset=us-ascii\\nCo...  \n",
       "1  ----------------------------------------------...  \n",
       "2  > > What happens when NULL is not a consective...  \n",
       "3  At 01:45 PM 6/12/2007, Tirtha wrote:\\n>Dear us...  \n",
       "4  Content-type: text/plain; charset=\"US-ASCII\" T...  "
      ]
     },
     "execution_count": 36,
     "metadata": {},
     "output_type": "execute_result"
    }
   ],
   "source": [
    "# Check the features\n",
    "X_sample.head()"
   ]
  },
  {
   "cell_type": "markdown",
   "id": "80e25c1c",
   "metadata": {},
   "source": [
    "There are four features. All of them are text data. Lets take look into them one by one"
   ]
  },
  {
   "cell_type": "markdown",
   "id": "7d6b1540",
   "metadata": {},
   "source": [
    "<a id = \"et\"></a>\n",
    "## 2. Feature 1: email_to"
   ]
  },
  {
   "cell_type": "markdown",
   "id": "5cd4bc3e",
   "metadata": {},
   "source": [
    "Since the goal of the machine learning task is spam detection, the recipient email address might not provide relevant information for the specific task. Dropping the \"email_to\" feature allows the model to focus solely on the nature of incoming emails.<br>\n",
    "\n",
    "If the dataset contains a large number of unique email addresses in the \"email_to\" feature, including it as a categorical feature could lead to high dimensionality. High-dimensional feature spaces can pose challenges in terms of computational complexity, memory usage, and model interpretability. <br>\n",
    "\n",
    "By dropping the \"email_to\" feature, the dimensionality of the feature space is reduced, simplifying the machine learning process."
   ]
  },
  {
   "cell_type": "code",
   "execution_count": 37,
   "id": "3a2679e5",
   "metadata": {},
   "outputs": [
    {
     "data": {
      "text/html": [
       "<div>\n",
       "<style scoped>\n",
       "    .dataframe tbody tr th:only-of-type {\n",
       "        vertical-align: middle;\n",
       "    }\n",
       "\n",
       "    .dataframe tbody tr th {\n",
       "        vertical-align: top;\n",
       "    }\n",
       "\n",
       "    .dataframe thead th {\n",
       "        text-align: right;\n",
       "    }\n",
       "</style>\n",
       "<table border=\"1\" class=\"dataframe\">\n",
       "  <thead>\n",
       "    <tr style=\"text-align: right;\">\n",
       "      <th></th>\n",
       "      <th>subject</th>\n",
       "      <th>email_from</th>\n",
       "      <th>message</th>\n",
       "    </tr>\n",
       "  </thead>\n",
       "  <tbody>\n",
       "    <tr>\n",
       "      <th>0</th>\n",
       "      <td>Re: [sugar] new Sugar dependency: libtelepathy...</td>\n",
       "      <td>Dafydd Harries &lt;daf@rhydd.org&gt;</td>\n",
       "      <td>Content-Type: text/plain; charset=us-ascii\\nCo...</td>\n",
       "    </tr>\n",
       "    <tr>\n",
       "      <th>1</th>\n",
       "      <td>Rev 307: enable TCP keepalives in http://samba...</td>\n",
       "      <td>tridge@samba.org</td>\n",
       "      <td>----------------------------------------------...</td>\n",
       "    </tr>\n",
       "    <tr>\n",
       "      <th>2</th>\n",
       "      <td>[perl #43105] [PATCH] function mmd.c::mmd_expa...</td>\n",
       "      <td>\"Bernhard Schmalhofer via RT\" &lt;parrotbug-follo...</td>\n",
       "      <td>&gt; &gt; What happens when NULL is not a consective...</td>\n",
       "    </tr>\n",
       "    <tr>\n",
       "      <th>3</th>\n",
       "      <td>Re: [R] Appropriate regression model for categ...</td>\n",
       "      <td>Robert A LaBudde &lt;ral@lcfltd.com&gt;</td>\n",
       "      <td>At 01:45 PM 6/12/2007, Tirtha wrote:\\n&gt;Dear us...</td>\n",
       "    </tr>\n",
       "    <tr>\n",
       "      <th>4</th>\n",
       "      <td>TONIGHT ON SHOWBIZ TONIGHT - CNN HEADLINE PRIM...</td>\n",
       "      <td>Showbiz Tonight &lt;showbiz@mail.cnn.com&gt;</td>\n",
       "      <td>Content-type: text/plain; charset=\"US-ASCII\" T...</td>\n",
       "    </tr>\n",
       "  </tbody>\n",
       "</table>\n",
       "</div>"
      ],
      "text/plain": [
       "                                             subject  \\\n",
       "0  Re: [sugar] new Sugar dependency: libtelepathy...   \n",
       "1  Rev 307: enable TCP keepalives in http://samba...   \n",
       "2  [perl #43105] [PATCH] function mmd.c::mmd_expa...   \n",
       "3  Re: [R] Appropriate regression model for categ...   \n",
       "4  TONIGHT ON SHOWBIZ TONIGHT - CNN HEADLINE PRIM...   \n",
       "\n",
       "                                          email_from  \\\n",
       "0                     Dafydd Harries <daf@rhydd.org>   \n",
       "1                                   tridge@samba.org   \n",
       "2  \"Bernhard Schmalhofer via RT\" <parrotbug-follo...   \n",
       "3                  Robert A LaBudde <ral@lcfltd.com>   \n",
       "4             Showbiz Tonight <showbiz@mail.cnn.com>   \n",
       "\n",
       "                                             message  \n",
       "0  Content-Type: text/plain; charset=us-ascii\\nCo...  \n",
       "1  ----------------------------------------------...  \n",
       "2  > > What happens when NULL is not a consective...  \n",
       "3  At 01:45 PM 6/12/2007, Tirtha wrote:\\n>Dear us...  \n",
       "4  Content-type: text/plain; charset=\"US-ASCII\" T...  "
      ]
     },
     "execution_count": 37,
     "metadata": {},
     "output_type": "execute_result"
    }
   ],
   "source": [
    "# Drop the 'email_to' column\n",
    "X_sample.drop('email_to', axis=1, inplace=True)\n",
    "# Confirm the changes\n",
    "X_sample.head()"
   ]
  },
  {
   "cell_type": "markdown",
   "id": "6f45b45e",
   "metadata": {},
   "source": [
    "<a id = \"ef\"></a>\n",
    "## 3. Feature 2: email_from"
   ]
  },
  {
   "cell_type": "markdown",
   "id": "7edd4fc7",
   "metadata": {},
   "source": [
    "email_from feature has the email address of the sender. It has a pattern. So we can extract displayname, username, email host and domain extension from this."
   ]
  },
  {
   "cell_type": "code",
   "execution_count": 38,
   "id": "f217c26d",
   "metadata": {},
   "outputs": [
    {
     "data": {
      "text/plain": [
       "22619"
      ]
     },
     "execution_count": 38,
     "metadata": {},
     "output_type": "execute_result"
    }
   ],
   "source": [
    "# Check unique values of email_from\n",
    "X_sample['email_from'].value_counts().count()"
   ]
  },
  {
   "cell_type": "markdown",
   "id": "c5656797",
   "metadata": {},
   "source": [
    "We are using pandas string method called extract. It is used to extract substrings from the \"email_from\" column that match the specified regular expression pattern."
   ]
  },
  {
   "cell_type": "code",
   "execution_count": 39,
   "id": "6bc9ea1c",
   "metadata": {},
   "outputs": [
    {
     "data": {
      "text/html": [
       "<div>\n",
       "<style scoped>\n",
       "    .dataframe tbody tr th:only-of-type {\n",
       "        vertical-align: middle;\n",
       "    }\n",
       "\n",
       "    .dataframe tbody tr th {\n",
       "        vertical-align: top;\n",
       "    }\n",
       "\n",
       "    .dataframe thead th {\n",
       "        text-align: right;\n",
       "    }\n",
       "</style>\n",
       "<table border=\"1\" class=\"dataframe\">\n",
       "  <thead>\n",
       "    <tr style=\"text-align: right;\">\n",
       "      <th></th>\n",
       "      <th>from_display_name</th>\n",
       "      <th>from_username</th>\n",
       "      <th>from_host</th>\n",
       "      <th>from_domain</th>\n",
       "    </tr>\n",
       "  </thead>\n",
       "  <tbody>\n",
       "    <tr>\n",
       "      <th>0</th>\n",
       "      <td>Dafydd Harries</td>\n",
       "      <td>daf</td>\n",
       "      <td>rhydd</td>\n",
       "      <td>org</td>\n",
       "    </tr>\n",
       "    <tr>\n",
       "      <th>1</th>\n",
       "      <td>tridge@samba.org</td>\n",
       "      <td>NaN</td>\n",
       "      <td>samba</td>\n",
       "      <td>org</td>\n",
       "    </tr>\n",
       "    <tr>\n",
       "      <th>2</th>\n",
       "      <td>\"Bernhard Schmalhofer via RT\"</td>\n",
       "      <td>parrotbug-followup</td>\n",
       "      <td>parrotcode</td>\n",
       "      <td>org</td>\n",
       "    </tr>\n",
       "    <tr>\n",
       "      <th>3</th>\n",
       "      <td>Robert A LaBudde</td>\n",
       "      <td>ral</td>\n",
       "      <td>lcfltd</td>\n",
       "      <td>com</td>\n",
       "    </tr>\n",
       "    <tr>\n",
       "      <th>4</th>\n",
       "      <td>Showbiz Tonight</td>\n",
       "      <td>showbiz</td>\n",
       "      <td>mail</td>\n",
       "      <td>com</td>\n",
       "    </tr>\n",
       "  </tbody>\n",
       "</table>\n",
       "</div>"
      ],
      "text/plain": [
       "                from_display_name       from_username   from_host from_domain\n",
       "0                 Dafydd Harries                  daf       rhydd         org\n",
       "1                tridge@samba.org                 NaN       samba         org\n",
       "2  \"Bernhard Schmalhofer via RT\"   parrotbug-followup  parrotcode         org\n",
       "3               Robert A LaBudde                  ral      lcfltd         com\n",
       "4                Showbiz Tonight              showbiz        mail         com"
      ]
     },
     "execution_count": 39,
     "metadata": {},
     "output_type": "execute_result"
    }
   ],
   "source": [
    "# clean email_from\n",
    "df_email_from = pd.DataFrame()\n",
    "df_email_from[\"from_display_name\"] = X_sample[\"email_from\"].str.extract(r\"^([^<]+)\")\n",
    "df_email_from[\"from_username\"] = X_sample[\"email_from\"].str.extract(r\"<(.*?)@\")\n",
    "df_email_from[\"from_host\"] = X_sample[\"email_from\"].str.extract(r\"@(\\w+)\")\n",
    "df_email_from[\"from_domain\"] = X_sample[\"email_from\"].str.extract(r\"@[\\w.]+\\.(\\w+)\")\n",
    "\n",
    "# Removing double quotes (\") and commas (,) from \"display_name\" column\n",
    "df_email_from[\"from_display_name\"] = df_email_from[\"from_display_name\"].str.replace(r'[\",]', '')\n",
    "\n",
    "# View the extracted results\n",
    "df_email_from.head()"
   ]
  },
  {
   "cell_type": "markdown",
   "id": "6e6e01ee",
   "metadata": {},
   "source": [
    "Now we need to clean this dataframe before making it into features"
   ]
  },
  {
   "cell_type": "code",
   "execution_count": 40,
   "id": "f6d20371",
   "metadata": {},
   "outputs": [
    {
     "name": "stdout",
     "output_type": "stream",
     "text": [
      "Number of missing values: 5336\n"
     ]
    }
   ],
   "source": [
    "# Number of missing values in the email_from dataframe\n",
    "print(f\"Number of missing values: {df_email_from.isna().sum().sum()}\")"
   ]
  },
  {
   "cell_type": "code",
   "execution_count": 41,
   "id": "935abfc8",
   "metadata": {},
   "outputs": [
    {
     "data": {
      "text/plain": [
       "from_display_name     753\n",
       "from_username        2938\n",
       "from_host               4\n",
       "from_domain          1641\n",
       "dtype: int64"
      ]
     },
     "execution_count": 41,
     "metadata": {},
     "output_type": "execute_result"
    }
   ],
   "source": [
    "# Check column wise count of missing values\n",
    "df_email_from.isna().sum()"
   ]
  },
  {
   "cell_type": "markdown",
   "id": "3dcfaf0f",
   "metadata": {},
   "source": [
    "Replace null values and missing values with 'Unkown' string, since we don't have this information available."
   ]
  },
  {
   "cell_type": "code",
   "execution_count": 42,
   "id": "92cd9686",
   "metadata": {},
   "outputs": [
    {
     "data": {
      "text/plain": [
       "from_display_name    0\n",
       "from_username        0\n",
       "from_host            0\n",
       "from_domain          0\n",
       "dtype: int64"
      ]
     },
     "execution_count": 42,
     "metadata": {},
     "output_type": "execute_result"
    }
   ],
   "source": [
    "df_email_from['from_display_name'] = df_email_from['from_display_name'].replace([np.nan, ''], 'Unknown')\n",
    "df_email_from['from_username'] = df_email_from['from_username'].replace([np.nan, ''], 'Unknown')\n",
    "df_email_from['from_host'] = df_email_from['from_host'].replace([np.nan, ''], 'Unknown')\n",
    "df_email_from['from_domain'] = df_email_from['from_domain'].replace([np.nan, ''], 'Unknown')\n",
    "\n",
    "# Check column wise count of missing values\n",
    "df_email_from.isna().sum()"
   ]
  },
  {
   "cell_type": "markdown",
   "id": "14bc171f",
   "metadata": {},
   "source": [
    "Lets closely examine each of the extracted features."
   ]
  },
  {
   "cell_type": "markdown",
   "id": "9775edcb",
   "metadata": {},
   "source": [
    "**Email Host: from_host**"
   ]
  },
  {
   "cell_type": "code",
   "execution_count": 43,
   "id": "b297f47a",
   "metadata": {},
   "outputs": [
    {
     "name": "stdout",
     "output_type": "stream",
     "text": [
      "There are 13158  email hosts\n"
     ]
    }
   ],
   "source": [
    "# Unique email hosts\n",
    "print('There are', df_email_from['from_host'].value_counts().count(), ' email hosts')"
   ]
  },
  {
   "cell_type": "markdown",
   "id": "f59cf4fb",
   "metadata": {},
   "source": [
    "Lets see which are the top 20 email hosts"
   ]
  },
  {
   "cell_type": "code",
   "execution_count": 44,
   "id": "440ac6a8",
   "metadata": {},
   "outputs": [
    {
     "name": "stdout",
     "output_type": "stream",
     "text": [
      "from_host\n",
      "samba         2851\n",
      "gmail         2692\n",
      "yahoo         1028\n",
      "mail           939\n",
      "broadcast      637\n",
      "cbsig          549\n",
      "messaging      336\n",
      "stats          335\n",
      "hotmail        320\n",
      "parrotcode     312\n",
      "foxnews        223\n",
      "pelmorex       205\n",
      "debian         197\n",
      "gmx            183\n",
      "flax9          169\n",
      "ebs            168\n",
      "verizon        161\n",
      "keionline      156\n",
      "calcium        152\n",
      "wgz            150\n",
      "Name: count, dtype: int64\n"
     ]
    },
    {
     "data": {
      "image/png": "[encoded data removed]",
      "text/plain": [
       "<Figure size 1200x600 with 1 Axes>"
      ]
     },
     "metadata": {},
     "output_type": "display_data"
    }
   ],
   "source": [
    "top_20_counts = df_email_from['from_host'].value_counts().head(20)\n",
    "print(top_20_counts)\n",
    "\n",
    "# Plotting the top 20 value counts as a bar plot\n",
    "plt.figure(figsize=(12, 6))\n",
    "top_20_counts.plot(kind='bar')\n",
    "plt.xlabel('Email hosts')\n",
    "plt.ylabel('Count')\n",
    "plt.title('Top 20 Email Hosts in Sender Email Addresses')\n",
    "plt.xticks(rotation=45)\n",
    "plt.tight_layout()\n",
    "plt.show()"
   ]
  },
  {
   "cell_type": "markdown",
   "id": "16b91b7c",
   "metadata": {},
   "source": [
    "From the top 20 email hosts, lets keep the popular ones and club the rest of them together as 'Others'."
   ]
  },
  {
   "cell_type": "code",
   "execution_count": 45,
   "id": "d0c37719",
   "metadata": {},
   "outputs": [
    {
     "data": {
      "image/png": "[encoded data removed]",
      "text/plain": [
       "<Figure size 1200x600 with 1 Axes>"
      ]
     },
     "metadata": {},
     "output_type": "display_data"
    }
   ],
   "source": [
    "# List of email hosts to keep\n",
    "popular_email_hosts = ['gmail', 'yahoo', 'mail', 'hotmail', 'gmx']\n",
    "\n",
    "# Map the 'from_host' column to 'Others' using lambda function and .apply\n",
    "df_email_from['from_host'] = df_email_from['from_host'].apply(lambda host: host if host in popular_email_hosts else 'Others')\n",
    "\n",
    "# Display new value counts for Sender email host\n",
    "email_host_counts = df_email_from['from_host'].value_counts()\n",
    "\n",
    "# Plotting the top 20 value counts as a bar plot\n",
    "plt.figure(figsize=(12, 6))\n",
    "email_host_counts.plot(kind='bar')\n",
    "plt.xlabel('Email hosts')\n",
    "plt.ylabel('Count')\n",
    "plt.title('Email Hosts in Sender Email Addresses')\n",
    "plt.xticks(rotation=45)\n",
    "plt.tight_layout()\n",
    "plt.show()"
   ]
  },
  {
   "cell_type": "markdown",
   "id": "f5d37fe7",
   "metadata": {},
   "source": [
    "View the top email host categories removing 'Others'"
   ]
  },
  {
   "cell_type": "code",
   "execution_count": 46,
   "id": "f0642502",
   "metadata": {},
   "outputs": [
    {
     "data": {
      "image/png": "[encoded data removed]",
      "text/plain": [
       "<Figure size 1200x600 with 1 Axes>"
      ]
     },
     "metadata": {},
     "output_type": "display_data"
    }
   ],
   "source": [
    "# Filter out the 'Others' category from the value counts\n",
    "top_email_hosts = email_host_counts.drop('Others')\n",
    "\n",
    "# Plotting the top 20 value counts as a bar plot\n",
    "plt.figure(figsize=(12, 6))\n",
    "top_email_hosts[:20].plot(kind='bar')\n",
    "plt.xlabel('Email hosts')\n",
    "plt.ylabel('Count')\n",
    "plt.title('Email Hosts in Sender Email Addresses')\n",
    "plt.xticks(rotation=45)\n",
    "plt.tight_layout()\n",
    "plt.show()"
   ]
  },
  {
   "cell_type": "code",
   "execution_count": 54,
   "id": "9a823117",
   "metadata": {},
   "outputs": [
    {
     "data": {
      "text/html": [
       "<div>\n",
       "<style scoped>\n",
       "    .dataframe tbody tr th:only-of-type {\n",
       "        vertical-align: middle;\n",
       "    }\n",
       "\n",
       "    .dataframe tbody tr th {\n",
       "        vertical-align: top;\n",
       "    }\n",
       "\n",
       "    .dataframe thead th {\n",
       "        text-align: right;\n",
       "    }\n",
       "</style>\n",
       "<table border=\"1\" class=\"dataframe\">\n",
       "  <thead>\n",
       "    <tr style=\"text-align: right;\">\n",
       "      <th></th>\n",
       "      <th>from_display_name</th>\n",
       "      <th>from_username</th>\n",
       "      <th>from_host</th>\n",
       "      <th>from_domain</th>\n",
       "    </tr>\n",
       "  </thead>\n",
       "  <tbody>\n",
       "    <tr>\n",
       "      <th>15487</th>\n",
       "      <td>Stephen Tucker</td>\n",
       "      <td>brown_emu</td>\n",
       "      <td>yahoo</td>\n",
       "      <td>com</td>\n",
       "    </tr>\n",
       "    <tr>\n",
       "      <th>20348</th>\n",
       "      <td>\"Nigel\"</td>\n",
       "      <td>zzzedurvirf</td>\n",
       "      <td>Others</td>\n",
       "      <td>net</td>\n",
       "    </tr>\n",
       "    <tr>\n",
       "      <th>5781</th>\n",
       "      <td>Gaijin</td>\n",
       "      <td>gaijin</td>\n",
       "      <td>Others</td>\n",
       "      <td>net</td>\n",
       "    </tr>\n",
       "    <tr>\n",
       "      <th>29877</th>\n",
       "      <td>Cary Henson</td>\n",
       "      <td>ffqnandins</td>\n",
       "      <td>Others</td>\n",
       "      <td>Unknown</td>\n",
       "    </tr>\n",
       "    <tr>\n",
       "      <th>28258</th>\n",
       "      <td>\"Amir Lopez\"</td>\n",
       "      <td>ugoline.com</td>\n",
       "      <td>Others</td>\n",
       "      <td>com</td>\n",
       "    </tr>\n",
       "  </tbody>\n",
       "</table>\n",
       "</div>"
      ],
      "text/plain": [
       "      from_display_name from_username from_host from_domain\n",
       "15487   Stephen Tucker      brown_emu     yahoo         com\n",
       "20348          \"Nigel\"    zzzedurvirf    Others         net\n",
       "5781            Gaijin         gaijin    Others         net\n",
       "29877      Cary Henson     ffqnandins    Others     Unknown\n",
       "28258     \"Amir Lopez\"    ugoline.com    Others         com"
      ]
     },
     "execution_count": 54,
     "metadata": {},
     "output_type": "execute_result"
    }
   ],
   "source": [
    "# Check the new feature classes\n",
    "df_email_from.sample(5)"
   ]
  },
  {
   "cell_type": "markdown",
   "id": "8956ef10",
   "metadata": {},
   "source": [
    "**Email Host: from_domain**"
   ]
  },
  {
   "cell_type": "code",
   "execution_count": 55,
   "id": "423c8021",
   "metadata": {},
   "outputs": [
    {
     "name": "stdout",
     "output_type": "stream",
     "text": [
      "There are 191  email domain extensions\n"
     ]
    }
   ],
   "source": [
    "# Unique email domain\n",
    "print('There are', df_email_from['from_domain'].value_counts().count(), ' email domain extensions')"
   ]
  },
  {
   "cell_type": "markdown",
   "id": "64efbc3d",
   "metadata": {},
   "source": [
    "Lets see which are the top 20 email domains"
   ]
  },
  {
   "cell_type": "code",
   "execution_count": 56,
   "id": "e85bbcf3",
   "metadata": {},
   "outputs": [
    {
     "name": "stdout",
     "output_type": "stream",
     "text": [
      "from_domain\n",
      "com        20027\n",
      "org         5252\n",
      "net         3521\n",
      "Unknown     1641\n",
      "ca          1220\n",
      "uk          1187\n",
      "edu          933\n",
      "de           706\n",
      "biz          418\n",
      "au           382\n",
      "it           318\n",
      "fr           292\n",
      "jp           230\n",
      "br           211\n",
      "nl           208\n",
      "dk           178\n",
      "cz           164\n",
      "COM          152\n",
      "ch           145\n",
      "pl           138\n",
      "Name: count, dtype: int64\n"
     ]
    },
    {
     "data": {
      "image/png": "[encoded data removed]",
      "text/plain": [
       "<Figure size 1200x600 with 1 Axes>"
      ]
     },
     "metadata": {},
     "output_type": "display_data"
    }
   ],
   "source": [
    "top_20_counts = df_email_from['from_domain'].value_counts().head(20)\n",
    "print(top_20_counts)\n",
    "\n",
    "# Plotting the top 20 value counts as a bar plot\n",
    "plt.figure(figsize=(12, 6))\n",
    "top_20_counts.plot(kind='bar')\n",
    "plt.xlabel('Email Domain')\n",
    "plt.ylabel('Count')\n",
    "plt.title('Top 20 Email Extensions in Sender Addresses')\n",
    "plt.xticks(rotation=45)\n",
    "plt.tight_layout()\n",
    "plt.show()"
   ]
  },
  {
   "cell_type": "markdown",
   "id": "bd0d0dda",
   "metadata": {},
   "source": [
    "From the top 20 email domains, lets keep the popular ones and club the rest of them together as 'Others'."
   ]
  },
  {
   "cell_type": "code",
   "execution_count": 57,
   "id": "2c1e48aa",
   "metadata": {},
   "outputs": [
    {
     "data": {
      "image/png": "[encoded data removed]",
      "text/plain": [
       "<Figure size 1200x600 with 1 Axes>"
      ]
     },
     "metadata": {},
     "output_type": "display_data"
    }
   ],
   "source": [
    "# List of email domains to keep\n",
    "known_email_domains = ['com', 'org', 'net', 'uk', 'ca', 'edu']\n",
    "\n",
    "# Map the 'from_domain' column to 'Others' using lambda function and .apply\n",
    "df_email_from['from_domain'] = df_email_from['from_domain'].apply(lambda domain: domain if domain in known_email_domains else 'Others')\n",
    "\n",
    "# Display new value counts for Sender email host\n",
    "email_domain_counts = df_email_from['from_domain'].value_counts()\n",
    "\n",
    "# Plotting the top 20 value counts as a bar plot\n",
    "plt.figure(figsize=(12, 6))\n",
    "email_domain_counts.plot(kind='bar')\n",
    "plt.xlabel('Email domains')\n",
    "plt.ylabel('Count')\n",
    "plt.title('Email domains in Sender Addresses')\n",
    "plt.xticks(rotation=45)\n",
    "plt.tight_layout()\n",
    "plt.show()"
   ]
  },
  {
   "cell_type": "code",
   "execution_count": 59,
   "id": "7db53509",
   "metadata": {},
   "outputs": [
    {
     "data": {
      "text/html": [
       "<div>\n",
       "<style scoped>\n",
       "    .dataframe tbody tr th:only-of-type {\n",
       "        vertical-align: middle;\n",
       "    }\n",
       "\n",
       "    .dataframe tbody tr th {\n",
       "        vertical-align: top;\n",
       "    }\n",
       "\n",
       "    .dataframe thead th {\n",
       "        text-align: right;\n",
       "    }\n",
       "</style>\n",
       "<table border=\"1\" class=\"dataframe\">\n",
       "  <thead>\n",
       "    <tr style=\"text-align: right;\">\n",
       "      <th></th>\n",
       "      <th>from_display_name</th>\n",
       "      <th>from_username</th>\n",
       "      <th>from_host</th>\n",
       "      <th>from_domain</th>\n",
       "    </tr>\n",
       "  </thead>\n",
       "  <tbody>\n",
       "    <tr>\n",
       "      <th>34926</th>\n",
       "      <td>Paul</td>\n",
       "      <td>alain.truempler</td>\n",
       "      <td>Others</td>\n",
       "      <td>com</td>\n",
       "    </tr>\n",
       "    <tr>\n",
       "      <th>11223</th>\n",
       "      <td>Tom Allison</td>\n",
       "      <td>tom</td>\n",
       "      <td>Others</td>\n",
       "      <td>net</td>\n",
       "    </tr>\n",
       "    <tr>\n",
       "      <th>28018</th>\n",
       "      <td>\"Dexter Welsh\"</td>\n",
       "      <td>nehpirelisot</td>\n",
       "      <td>Others</td>\n",
       "      <td>Others</td>\n",
       "    </tr>\n",
       "    <tr>\n",
       "      <th>19192</th>\n",
       "      <td>Romain Francois</td>\n",
       "      <td>rfrancois</td>\n",
       "      <td>Others</td>\n",
       "      <td>Others</td>\n",
       "    </tr>\n",
       "    <tr>\n",
       "      <th>34390</th>\n",
       "      <td>\"Bernardo Beltran\"</td>\n",
       "      <td>brian</td>\n",
       "      <td>Others</td>\n",
       "      <td>com</td>\n",
       "    </tr>\n",
       "  </tbody>\n",
       "</table>\n",
       "</div>"
      ],
      "text/plain": [
       "         from_display_name    from_username from_host from_domain\n",
       "34926               Paul    alain.truempler    Others         com\n",
       "11223         Tom Allison               tom    Others         net\n",
       "28018      \"Dexter Welsh\"      nehpirelisot    Others      Others\n",
       "19192     Romain Francois         rfrancois    Others      Others\n",
       "34390  \"Bernardo Beltran\"             brian    Others         com"
      ]
     },
     "execution_count": 59,
     "metadata": {},
     "output_type": "execute_result"
    }
   ],
   "source": [
    "# Check the new feature classes\n",
    "df_email_from.sample(5)"
   ]
  },
  {
   "cell_type": "markdown",
   "id": "4625c06e",
   "metadata": {},
   "source": [
    "Finally, join the extracted features to Feature dataframe and remove the email_from feature."
   ]
  },
  {
   "cell_type": "code",
   "execution_count": 61,
   "id": "f7e501c8",
   "metadata": {},
   "outputs": [
    {
     "data": {
      "text/html": [
       "<div>\n",
       "<style scoped>\n",
       "    .dataframe tbody tr th:only-of-type {\n",
       "        vertical-align: middle;\n",
       "    }\n",
       "\n",
       "    .dataframe tbody tr th {\n",
       "        vertical-align: top;\n",
       "    }\n",
       "\n",
       "    .dataframe thead th {\n",
       "        text-align: right;\n",
       "    }\n",
       "</style>\n",
       "<table border=\"1\" class=\"dataframe\">\n",
       "  <thead>\n",
       "    <tr style=\"text-align: right;\">\n",
       "      <th></th>\n",
       "      <th>subject</th>\n",
       "      <th>message</th>\n",
       "      <th>from_display_name</th>\n",
       "      <th>from_username</th>\n",
       "      <th>from_host</th>\n",
       "      <th>from_domain</th>\n",
       "    </tr>\n",
       "  </thead>\n",
       "  <tbody>\n",
       "    <tr>\n",
       "      <th>0</th>\n",
       "      <td>Re: [sugar] new Sugar dependency: libtelepathy...</td>\n",
       "      <td>Content-Type: text/plain; charset=us-ascii\\nCo...</td>\n",
       "      <td>Dafydd Harries</td>\n",
       "      <td>daf</td>\n",
       "      <td>Others</td>\n",
       "      <td>org</td>\n",
       "    </tr>\n",
       "    <tr>\n",
       "      <th>1</th>\n",
       "      <td>Rev 307: enable TCP keepalives in http://samba...</td>\n",
       "      <td>----------------------------------------------...</td>\n",
       "      <td>tridge@samba.org</td>\n",
       "      <td>Unknown</td>\n",
       "      <td>Others</td>\n",
       "      <td>org</td>\n",
       "    </tr>\n",
       "    <tr>\n",
       "      <th>2</th>\n",
       "      <td>[perl #43105] [PATCH] function mmd.c::mmd_expa...</td>\n",
       "      <td>&gt; &gt; What happens when NULL is not a consective...</td>\n",
       "      <td>\"Bernhard Schmalhofer via RT\"</td>\n",
       "      <td>parrotbug-followup</td>\n",
       "      <td>Others</td>\n",
       "      <td>org</td>\n",
       "    </tr>\n",
       "    <tr>\n",
       "      <th>3</th>\n",
       "      <td>Re: [R] Appropriate regression model for categ...</td>\n",
       "      <td>At 01:45 PM 6/12/2007, Tirtha wrote:\\n&gt;Dear us...</td>\n",
       "      <td>Robert A LaBudde</td>\n",
       "      <td>ral</td>\n",
       "      <td>Others</td>\n",
       "      <td>com</td>\n",
       "    </tr>\n",
       "    <tr>\n",
       "      <th>4</th>\n",
       "      <td>TONIGHT ON SHOWBIZ TONIGHT - CNN HEADLINE PRIM...</td>\n",
       "      <td>Content-type: text/plain; charset=\"US-ASCII\" T...</td>\n",
       "      <td>Showbiz Tonight</td>\n",
       "      <td>showbiz</td>\n",
       "      <td>mail</td>\n",
       "      <td>com</td>\n",
       "    </tr>\n",
       "  </tbody>\n",
       "</table>\n",
       "</div>"
      ],
      "text/plain": [
       "                                             subject  \\\n",
       "0  Re: [sugar] new Sugar dependency: libtelepathy...   \n",
       "1  Rev 307: enable TCP keepalives in http://samba...   \n",
       "2  [perl #43105] [PATCH] function mmd.c::mmd_expa...   \n",
       "3  Re: [R] Appropriate regression model for categ...   \n",
       "4  TONIGHT ON SHOWBIZ TONIGHT - CNN HEADLINE PRIM...   \n",
       "\n",
       "                                             message  \\\n",
       "0  Content-Type: text/plain; charset=us-ascii\\nCo...   \n",
       "1  ----------------------------------------------...   \n",
       "2  > > What happens when NULL is not a consective...   \n",
       "3  At 01:45 PM 6/12/2007, Tirtha wrote:\\n>Dear us...   \n",
       "4  Content-type: text/plain; charset=\"US-ASCII\" T...   \n",
       "\n",
       "                from_display_name       from_username from_host from_domain  \n",
       "0                 Dafydd Harries                  daf    Others         org  \n",
       "1                tridge@samba.org             Unknown    Others         org  \n",
       "2  \"Bernhard Schmalhofer via RT\"   parrotbug-followup    Others         org  \n",
       "3               Robert A LaBudde                  ral    Others         com  \n",
       "4                Showbiz Tonight              showbiz      mail         com  "
      ]
     },
     "execution_count": 61,
     "metadata": {},
     "output_type": "execute_result"
    }
   ],
   "source": [
    "# Use concat_and_drop function for joining the extracted features\n",
    "X_sample = concat_and_drop(X_sample, df_email_from, 'email_from')\n",
    "# Check the changes\n",
    "X_sample.head()"
   ]
  },
  {
   "cell_type": "markdown",
   "id": "9a0e24f0",
   "metadata": {},
   "source": [
    "<a id = \"nf\"></a>\n",
    "## 4. Numerical Features"
   ]
  },
  {
   "cell_type": "markdown",
   "id": "67b32588",
   "metadata": {},
   "source": [
    "We are going to extract some numerical features from subject and message features. We can count the number of words in each of these features and add it as an additional feature.\n",
    "Extremely short or long subjects/messages might contain unique characteristics. The word count feature allows machine learning algorithms to identify and potentially leverage such patterns."
   ]
  },
  {
   "cell_type": "code",
   "execution_count": 62,
   "id": "765169e6",
   "metadata": {},
   "outputs": [
    {
     "data": {
      "text/html": [
       "<div>\n",
       "<style scoped>\n",
       "    .dataframe tbody tr th:only-of-type {\n",
       "        vertical-align: middle;\n",
       "    }\n",
       "\n",
       "    .dataframe tbody tr th {\n",
       "        vertical-align: top;\n",
       "    }\n",
       "\n",
       "    .dataframe thead th {\n",
       "        text-align: right;\n",
       "    }\n",
       "</style>\n",
       "<table border=\"1\" class=\"dataframe\">\n",
       "  <thead>\n",
       "    <tr style=\"text-align: right;\">\n",
       "      <th></th>\n",
       "      <th>subject</th>\n",
       "      <th>message</th>\n",
       "      <th>from_display_name</th>\n",
       "      <th>from_username</th>\n",
       "      <th>from_host</th>\n",
       "      <th>from_domain</th>\n",
       "      <th>subject_Word_Count</th>\n",
       "      <th>message_Word_Count</th>\n",
       "    </tr>\n",
       "  </thead>\n",
       "  <tbody>\n",
       "    <tr>\n",
       "      <th>0</th>\n",
       "      <td>Re: [sugar] new Sugar dependency: libtelepathy...</td>\n",
       "      <td>Content-Type: text/plain; charset=us-ascii\\nCo...</td>\n",
       "      <td>Dafydd Harries</td>\n",
       "      <td>daf</td>\n",
       "      <td>Others</td>\n",
       "      <td>org</td>\n",
       "      <td>6</td>\n",
       "      <td>165</td>\n",
       "    </tr>\n",
       "    <tr>\n",
       "      <th>1</th>\n",
       "      <td>Rev 307: enable TCP keepalives in http://samba...</td>\n",
       "      <td>----------------------------------------------...</td>\n",
       "      <td>tridge@samba.org</td>\n",
       "      <td>Unknown</td>\n",
       "      <td>Others</td>\n",
       "      <td>org</td>\n",
       "      <td>7</td>\n",
       "      <td>95</td>\n",
       "    </tr>\n",
       "    <tr>\n",
       "      <th>2</th>\n",
       "      <td>[perl #43105] [PATCH] function mmd.c::mmd_expa...</td>\n",
       "      <td>&gt; &gt; What happens when NULL is not a consective...</td>\n",
       "      <td>\"Bernhard Schmalhofer via RT\"</td>\n",
       "      <td>parrotbug-followup</td>\n",
       "      <td>Others</td>\n",
       "      <td>org</td>\n",
       "      <td>9</td>\n",
       "      <td>198</td>\n",
       "    </tr>\n",
       "    <tr>\n",
       "      <th>3</th>\n",
       "      <td>Re: [R] Appropriate regression model for categ...</td>\n",
       "      <td>At 01:45 PM 6/12/2007, Tirtha wrote:\\n&gt;Dear us...</td>\n",
       "      <td>Robert A LaBudde</td>\n",
       "      <td>ral</td>\n",
       "      <td>Others</td>\n",
       "      <td>com</td>\n",
       "      <td>8</td>\n",
       "      <td>209</td>\n",
       "    </tr>\n",
       "    <tr>\n",
       "      <th>4</th>\n",
       "      <td>TONIGHT ON SHOWBIZ TONIGHT - CNN HEADLINE PRIM...</td>\n",
       "      <td>Content-type: text/plain; charset=\"US-ASCII\" T...</td>\n",
       "      <td>Showbiz Tonight</td>\n",
       "      <td>showbiz</td>\n",
       "      <td>mail</td>\n",
       "      <td>com</td>\n",
       "      <td>10</td>\n",
       "      <td>523</td>\n",
       "    </tr>\n",
       "  </tbody>\n",
       "</table>\n",
       "</div>"
      ],
      "text/plain": [
       "                                             subject  \\\n",
       "0  Re: [sugar] new Sugar dependency: libtelepathy...   \n",
       "1  Rev 307: enable TCP keepalives in http://samba...   \n",
       "2  [perl #43105] [PATCH] function mmd.c::mmd_expa...   \n",
       "3  Re: [R] Appropriate regression model for categ...   \n",
       "4  TONIGHT ON SHOWBIZ TONIGHT - CNN HEADLINE PRIM...   \n",
       "\n",
       "                                             message  \\\n",
       "0  Content-Type: text/plain; charset=us-ascii\\nCo...   \n",
       "1  ----------------------------------------------...   \n",
       "2  > > What happens when NULL is not a consective...   \n",
       "3  At 01:45 PM 6/12/2007, Tirtha wrote:\\n>Dear us...   \n",
       "4  Content-type: text/plain; charset=\"US-ASCII\" T...   \n",
       "\n",
       "                from_display_name       from_username from_host from_domain  \\\n",
       "0                 Dafydd Harries                  daf    Others         org   \n",
       "1                tridge@samba.org             Unknown    Others         org   \n",
       "2  \"Bernhard Schmalhofer via RT\"   parrotbug-followup    Others         org   \n",
       "3               Robert A LaBudde                  ral    Others         com   \n",
       "4                Showbiz Tonight              showbiz      mail         com   \n",
       "\n",
       "   subject_Word_Count  message_Word_Count  \n",
       "0                   6                 165  \n",
       "1                   7                  95  \n",
       "2                   9                 198  \n",
       "3                   8                 209  \n",
       "4                  10                 523  "
      ]
     },
     "execution_count": 62,
     "metadata": {},
     "output_type": "execute_result"
    }
   ],
   "source": [
    "# Add feature: Word count of hotel name\n",
    "X_sample['subject_Word_Count'] = X_sample['subject'].str.split().str.len()\n",
    "\n",
    "# Add feature: Word count of hotel name\n",
    "X_sample['message_Word_Count'] = X_sample['message'].str.split().str.len()\n",
    "\n",
    "# Check the changes\n",
    "X_sample.head()"
   ]
  },
  {
   "cell_type": "code",
   "execution_count": null,
   "id": "1d598445",
   "metadata": {},
   "outputs": [],
   "source": []
  },
  {
   "cell_type": "code",
   "execution_count": null,
   "id": "987e8a4c",
   "metadata": {},
   "outputs": [],
   "source": []
  },
  {
   "cell_type": "code",
   "execution_count": null,
   "id": "81c094c1",
   "metadata": {},
   "outputs": [],
   "source": []
  }
 ],
 "metadata": {
  "kernelspec": {
   "display_name": "Python 3 (ipykernel)",
   "language": "python",
   "name": "python3"
  },
  "language_info": {
   "codemirror_mode": {
    "name": "ipython",
    "version": 3
   },
   "file_extension": ".py",
   "mimetype": "text/x-python",
   "name": "python",
   "nbconvert_exporter": "python",
   "pygments_lexer": "ipython3",
   "version": "3.10.9"
  }
 },
 "nbformat": 4,
 "nbformat_minor": 5
}
