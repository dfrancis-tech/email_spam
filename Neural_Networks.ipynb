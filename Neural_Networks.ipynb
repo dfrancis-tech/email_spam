{
 "cells": [
  {
   "cell_type": "markdown",
   "id": "1b23792a",
   "metadata": {},
   "source": [
    "# Spam Email detection Neural Networks\n",
    "Prepared By Deepa Francis<br>\n",
    "For BrainStation<br>\n",
    "On July 31, 2023"
   ]
  },
  {
   "cell_type": "markdown",
   "id": "b6bbc742",
   "metadata": {},
   "source": [
    "# Table of Contents\n",
    "[1. Configuring Resources](#cr) <br>\n",
    "- [1.1. Set up Libraries](#sl) <br>\n",
    "- [1.2. Load Data](#ld) <br>\n",
    "[2. Neural Network Architecture](#cr) <br>\n",
    "- [2.1. Set up Libraries](#sl) <br>\n",
    "- [2.2. Load Data](#ld) <br>"
   ]
  },
  {
   "cell_type": "markdown",
   "id": "a60d99e8",
   "metadata": {},
   "source": [
    "<a id = \"cr\"></a>\n",
    "## 1. Configuring Resources"
   ]
  },
  {
   "cell_type": "markdown",
   "id": "34917d7f",
   "metadata": {},
   "source": [
    "We are going to configure resources for comparing the performance metrics of neural network models on our dataset."
   ]
  },
  {
   "cell_type": "markdown",
   "id": "492709d2",
   "metadata": {},
   "source": [
    "<a id = \"sl\"></a>\n",
    "### 1.1. Setting up Libraries"
   ]
  },
  {
   "cell_type": "code",
   "execution_count": 1,
   "id": "0c992338",
   "metadata": {},
   "outputs": [],
   "source": [
    "import numpy as np\n",
    "import pandas as pd\n",
    "import matplotlib.pyplot as plt\n",
    "\n",
    "from sklearn.preprocessing import MinMaxScaler\n",
    "\n",
    "from sklearn.metrics import classification_report\n",
    "from sklearn.metrics import precision_score\n",
    "from sklearn.metrics import recall_score\n",
    "from sklearn.metrics import f1_score\n",
    "from sklearn.metrics import confusion_matrix\n",
    "from sklearn.metrics import ConfusionMatrixDisplay\n",
    "from sklearn.metrics import roc_curve, roc_auc_score\n",
    "\n",
    "import tensorflow as tf\n",
    "from tensorflow import keras\n",
    "from tensorflow.keras import layers\n",
    "\n",
    "import warnings\n",
    "warnings.filterwarnings('ignore')"
   ]
  },
  {
   "cell_type": "markdown",
   "id": "cca35125",
   "metadata": {},
   "source": [
    "<a id = \"ld\"></a>\n",
    "### 1.2. Load Data"
   ]
  },
  {
   "cell_type": "code",
   "execution_count": 2,
   "id": "2dfce130",
   "metadata": {},
   "outputs": [],
   "source": [
    "# Load the data\n",
    "X_train = pd.read_csv('X_train.csv') \n",
    "X_test = pd.read_csv('X_test.csv') \n",
    "X_validation = pd.read_csv('X_validation.csv') \n",
    "\n",
    "X_train_Vec = pd.read_csv('X_train_Vec.csv') \n",
    "X_test_Vec = pd.read_csv('X_test_Vec.csv') \n",
    "X_val_Vec = pd.read_csv('X_val_Vec.csv')\n",
    "\n",
    "y_train = pd.read_csv('y_train.csv') \n",
    "y_test = pd.read_csv('y_test.csv') \n",
    "y_validation = pd.read_csv('y_validation.csv') "
   ]
  },
  {
   "cell_type": "code",
   "execution_count": 3,
   "id": "a75805af",
   "metadata": {},
   "outputs": [
    {
     "name": "stdout",
     "output_type": "stream",
     "text": [
      "The shape of X_train is (22400, 228)\n",
      "The shape of X_test is (12000, 228)\n",
      "The shape of X_validation is (5600, 228)\n",
      "\n",
      "The shape of X_train_Vec is (22400, 428)\n",
      "The shape of X_test_Vec is (12000, 428)\n",
      "The shape of X_val_Vec is (5600, 428)\n",
      "\n",
      "The shape of y_train is (22400, 1)\n",
      "The shape of y_test is (12000, 1)\n",
      "The shape of y_validation is (5600, 1)\n"
     ]
    }
   ],
   "source": [
    "# Check the shapes of the datasets\n",
    "print(f'The shape of X_train is {X_train.shape}')\n",
    "print(f'The shape of X_test is {X_test.shape}')\n",
    "print(f'The shape of X_validation is {X_validation.shape}')\n",
    "print('')\n",
    "print(f'The shape of X_train_Vec is {X_train_Vec.shape}')\n",
    "print(f'The shape of X_test_Vec is {X_test_Vec.shape}')\n",
    "print(f'The shape of X_val_Vec is {X_val_Vec.shape}')\n",
    "print('')\n",
    "print(f'The shape of y_train is {y_train.shape}')\n",
    "print(f'The shape of y_test is {y_test.shape}')\n",
    "print(f'The shape of y_validation is {y_validation.shape}')"
   ]
  },
  {
   "cell_type": "code",
   "execution_count": null,
   "id": "6ca16288",
   "metadata": {},
   "outputs": [],
   "source": []
  },
  {
   "cell_type": "code",
   "execution_count": null,
   "id": "1d484fdc",
   "metadata": {},
   "outputs": [],
   "source": []
  },
  {
   "cell_type": "code",
   "execution_count": null,
   "id": "a1f34221",
   "metadata": {},
   "outputs": [],
   "source": []
  }
 ],
 "metadata": {
  "kernelspec": {
   "display_name": "deeplearning",
   "language": "python",
   "name": "deeplearning"
  },
  "language_info": {
   "codemirror_mode": {
    "name": "ipython",
    "version": 3
   },
   "file_extension": ".py",
   "mimetype": "text/x-python",
   "name": "python",
   "nbconvert_exporter": "python",
   "pygments_lexer": "ipython3",
   "version": "3.8.17"
  }
 },
 "nbformat": 4,
 "nbformat_minor": 5
}
