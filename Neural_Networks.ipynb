{
 "cells": [
  {
   "cell_type": "markdown",
   "id": "730852b6",
   "metadata": {},
   "source": [
    "# Spam Email detection Neural Networks\n",
    "Prepared By Deepa Francis<br>\n",
    "For BrainStation<br>\n",
    "On July 31, 2023"
   ]
  },
  {
   "cell_type": "markdown",
   "id": "d066adce",
   "metadata": {},
   "source": [
    "# Table of Contents\n",
    "[1. Configuring Resources](#cr) <br>\n",
    "- [1.1. Set up Libraries](#sl) <br>\n",
    "- [1.2. Load Data](#ld) <br>\n",
    "\n",
    "[2. Neural Network](#nn) <br>\n",
    "- [2.1. Architecture](#nnr) <br>\n",
    "- [2.2. TF-IDF model evaluation](#tf) <br>\n",
    "- [2.3. Sentence2vec model evaluation](#sv) <br>\n",
    "- [2.4. Best Model](#bm) <br>\n",
    "\n",
    "[3. Findings](#fd) <br>\n",
    "[4. Conclusion](#con) <br>"
   ]
  },
  {
   "cell_type": "markdown",
   "id": "539e7eab",
   "metadata": {},
   "source": [
    "<a id = \"cr\"></a>\n",
    "## 1. Configuring Resources"
   ]
  },
  {
   "cell_type": "markdown",
   "id": "916615f8",
   "metadata": {},
   "source": [
    "We are going to configure resources for comparing the performance metrics of neural network models on our dataset."
   ]
  },
  {
   "cell_type": "markdown",
   "id": "379b2b32",
   "metadata": {},
   "source": [
    "<a id = \"sl\"></a>\n",
    "### 1.1. Setting up Libraries"
   ]
  },
  {
   "cell_type": "code",
   "execution_count": 13,
   "id": "08d0072b",
   "metadata": {},
   "outputs": [],
   "source": [
    "import numpy as np\n",
    "import pandas as pd\n",
    "import matplotlib.pyplot as plt\n",
    "\n",
    "from sklearn.preprocessing import MinMaxScaler\n",
    "\n",
    "from sklearn.metrics import classification_report\n",
    "from sklearn.metrics import precision_score\n",
    "from sklearn.metrics import recall_score\n",
    "from sklearn.metrics import f1_score\n",
    "from sklearn.metrics import confusion_matrix\n",
    "from sklearn.metrics import ConfusionMatrixDisplay\n",
    "from sklearn.metrics import roc_curve, roc_auc_score\n",
    "\n",
    "import tensorflow as tf\n",
    "from tensorflow import keras\n",
    "from tensorflow.keras import layers\n",
    "\n",
    "import warnings\n",
    "warnings.filterwarnings('ignore')"
   ]
  },
  {
   "cell_type": "markdown",
   "id": "5a190439",
   "metadata": {},
   "source": [
    "<a id = \"ld\"></a>\n",
    "### 1.2. Load Data"
   ]
  },
  {
   "cell_type": "code",
   "execution_count": 14,
   "id": "426d2367",
   "metadata": {},
   "outputs": [],
   "source": [
    "# Load the data\n",
    "X_train = pd.read_csv('X_train.csv') \n",
    "X_test = pd.read_csv('X_test.csv') \n",
    "X_validation = pd.read_csv('X_validation.csv') \n",
    "\n",
    "X_train_Vec = pd.read_csv('X_train_Vec.csv') \n",
    "X_test_Vec = pd.read_csv('X_test_Vec.csv') \n",
    "X_val_Vec = pd.read_csv('X_val_Vec.csv')\n",
    "\n",
    "y_train = pd.read_csv('y_train.csv') \n",
    "y_test = pd.read_csv('y_test.csv') \n",
    "y_validation = pd.read_csv('y_validation.csv') "
   ]
  },
  {
   "cell_type": "code",
   "execution_count": 15,
   "id": "8d507646",
   "metadata": {},
   "outputs": [
    {
     "name": "stdout",
     "output_type": "stream",
     "text": [
      "The shape of X_train is (22400, 228)\n",
      "The shape of X_test is (12000, 228)\n",
      "The shape of X_validation is (5600, 228)\n",
      "\n",
      "The shape of X_train_Vec is (22400, 428)\n",
      "The shape of X_test_Vec is (12000, 428)\n",
      "The shape of X_val_Vec is (5600, 428)\n",
      "\n",
      "The shape of y_train is (22400, 1)\n",
      "The shape of y_test is (12000, 1)\n",
      "The shape of y_validation is (5600, 1)\n"
     ]
    }
   ],
   "source": [
    "# Check the shapes of the datasets\n",
    "print(f'The shape of X_train is {X_train.shape}')\n",
    "print(f'The shape of X_test is {X_test.shape}')\n",
    "print(f'The shape of X_validation is {X_validation.shape}')\n",
    "print('')\n",
    "print(f'The shape of X_train_Vec is {X_train_Vec.shape}')\n",
    "print(f'The shape of X_test_Vec is {X_test_Vec.shape}')\n",
    "print(f'The shape of X_val_Vec is {X_val_Vec.shape}')\n",
    "print('')\n",
    "print(f'The shape of y_train is {y_train.shape}')\n",
    "print(f'The shape of y_test is {y_test.shape}')\n",
    "print(f'The shape of y_validation is {y_validation.shape}')"
   ]
  },
  {
   "cell_type": "markdown",
   "id": "a4c3c6ff",
   "metadata": {},
   "source": [
    "<a id = \"nn\"></a>\n",
    "## 2. Neural Network"
   ]
  },
  {
   "cell_type": "markdown",
   "id": "629ce5ed",
   "metadata": {},
   "source": [
    "The main objective is to compare the performance of the neural network when using two different text representation methods: TF-IDF Vectorizer and Sentence to Vec. The comparison will involve training the neural network with data represented using both approaches and evaluating its performance using the chosen performance metrics.\n",
    "\n",
    "Each approach may have its strengths and weaknesses depending on the nature of the text data and the complexity of the task at hand. By evaluating the neural network's performance under both methods, we can determine which representation technique yields better results for the given scenario."
   ]
  },
  {
   "cell_type": "markdown",
   "id": "bc52af5e",
   "metadata": {},
   "source": [
    "<a id = \"nnr\"></a>\n",
    "### 2.1. Architecture"
   ]
  },
  {
   "cell_type": "markdown",
   "id": "30288aae",
   "metadata": {},
   "source": [
    "**Create a Neural Network**\n",
    "- First we create a sequential model. A sequential model is a linear stack of layers. In this case, the model will be built layer-by-layer.\n",
    "\n",
    "- The model has three hidden layers, each followed by dropout regularization and batch normalization.\n",
    "\n",
    "    - Dense: The dense layer is a fully connected layer with 40 neurons. The activation function used is ReLU (Rectified Linear Unit), which helps introduce non-linearity into the model.\n",
    "    - Dropout: Dropout is a regularization technique that randomly drops out a fraction (0.2 in this case) of the neurons during training, which helps prevent overfitting.\n",
    "    - BatchNormalization: Batch normalization normalizes the inputs of each layer to have zero mean and unit variance, which helps stabilize training and improves the learning process.\n",
    "\n",
    "- The output layer is a dense layer with a single neuron, using the sigmoid activation function. Since this is a binary classification problem (spam or not spam), the sigmoid activation function outputs a probability between 0 and 1, indicating the likelihood of an email being spam.\n",
    "\n",
    "- The model is compiled with the Adam optimizer, Binary Crossentropy loss function (suitable for binary classification), and Binary Accuracy metric (used to monitor the accuracy during training).\n",
    "\n",
    "- The model is trained using the fit method with the training data (X_train, y_train). It will undergo 500 epochs (iterations over the entire dataset), and verbose=0 means the training progress won't be printed to the console.\n",
    "\n",
    "- After training, the model is evaluated on both the validation and test datasets. The training accuracy is extracted from the training history, and the evaluation results (loss and accuracy) for the validation and test datasets are obtained.\n",
    "\n",
    "- Then we do the predictions on the test data using the trained model. The predicted probabilities are rounded to obtain binary predictions (0 or 1). The true labels (y_test) are converted to integers (0 or 1). Finally, the classification report is printed for the test data, providing a comprehensive summary of the model's performance in classifying spam emails on the test dataset. The classification report includes metrics like precision, recall, F1-score, and support for both classes (spam and not spam)."
   ]
  },
  {
   "cell_type": "markdown",
   "id": "1906066b",
   "metadata": {},
   "source": [
    "<a id = \"tf\"></a>\n",
    "### 2.2. TF-IDF Model Evaluation"
   ]
  },
  {
   "cell_type": "markdown",
   "id": "2ca5a416",
   "metadata": {},
   "source": [
    "Here we are going to train the model created according to the model architecture explained using the dataset that has been TF-IDF vectorised for the email messages."
   ]
  },
  {
   "cell_type": "code",
   "execution_count": 16,
   "id": "18aba02c",
   "metadata": {},
   "outputs": [
    {
     "name": "stdout",
     "output_type": "stream",
     "text": [
      "Train Accuracy: 0.9736\n",
      "Validation Accuracy: 0.9182\n",
      "Test Accuracy: 0.9231\n",
      "375/375 [==============================] - 0s 824us/step\n",
      "Classification Report for Test Data:\n",
      "              precision    recall  f1-score   support\n",
      "\n",
      "           0       0.94      0.91      0.92      6000\n",
      "           1       0.91      0.94      0.92      6000\n",
      "\n",
      "    accuracy                           0.92     12000\n",
      "   macro avg       0.92      0.92      0.92     12000\n",
      "weighted avg       0.92      0.92      0.92     12000\n",
      "\n"
     ]
    }
   ],
   "source": [
    "# random seeds for reproducibility\n",
    "tf.random.set_seed(123)\n",
    "\n",
    "# Create a new sequential model\n",
    "model = keras.Sequential()\n",
    "\n",
    "# Declare the hidden layers\n",
    "model.add(layers.Dense(40, activation=\"relu\"))\n",
    "model.add(layers.Dropout(0.2))\n",
    "model.add(layers.BatchNormalization()) \n",
    "\n",
    "model.add(layers.Dense(40, activation=\"relu\"))\n",
    "model.add(layers.Dropout(0.2))\n",
    "model.add(layers.BatchNormalization()) \n",
    "\n",
    "model.add(layers.Dense(40, activation=\"relu\")) \n",
    "model.add(layers.Dropout(0.2))\n",
    "\n",
    "# Declare the output layer\n",
    "model.add(layers.Dense(1, activation=\"sigmoid\"))\n",
    "\n",
    "model.compile(\n",
    "    optimizer=keras.optimizers.Adam(),  \n",
    "    loss=keras.losses.BinaryCrossentropy(),\n",
    "    metrics=[keras.metrics.BinaryAccuracy()]\n",
    ")\n",
    "\n",
    "# Train the network\n",
    "history = model.fit(X_train, y_train, epochs=500, verbose=0)\n",
    "\n",
    "# Evaluate the network\n",
    "train_accuracy = history.history[\"binary_accuracy\"][-1]\n",
    "result1 = model.evaluate(X_validation,y_validation, verbose=0)\n",
    "result2 = model.evaluate(X_test,y_test, verbose=0)\n",
    "\n",
    "print(f\"Train Accuracy: {train_accuracy:.4f}\")\n",
    "print(f\"Validation Accuracy: {result1[1]:.4f}\")\n",
    "print(f\"Test Accuracy: {result2[1]:.4f}\")\n",
    "\n",
    "y_test_pred = model.predict(X_test)\n",
    "y_test_pred = np.round(y_test_pred).flatten()\n",
    "y_test = np.asarray(y_test, dtype=int)\n",
    "\n",
    "# Print classification report for test data\n",
    "print(\"Classification Report for Test Data:\")\n",
    "print(classification_report(y_test, y_test_pred))"
   ]
  },
  {
   "cell_type": "code",
   "execution_count": 18,
   "id": "85d90dc6",
   "metadata": {},
   "outputs": [
    {
     "data": {
      "text/html": [
       "<div>\n",
       "<style scoped>\n",
       "    .dataframe tbody tr th:only-of-type {\n",
       "        vertical-align: middle;\n",
       "    }\n",
       "\n",
       "    .dataframe tbody tr th {\n",
       "        vertical-align: top;\n",
       "    }\n",
       "\n",
       "    .dataframe thead th {\n",
       "        text-align: right;\n",
       "    }\n",
       "</style>\n",
       "<table border=\"1\" class=\"dataframe\">\n",
       "  <thead>\n",
       "    <tr style=\"text-align: right;\">\n",
       "      <th></th>\n",
       "      <th>Predicted non-spam</th>\n",
       "      <th>Predicted spam</th>\n",
       "    </tr>\n",
       "  </thead>\n",
       "  <tbody>\n",
       "    <tr>\n",
       "      <th>True non-spam</th>\n",
       "      <td>5454</td>\n",
       "      <td>546</td>\n",
       "    </tr>\n",
       "    <tr>\n",
       "      <th>True spam</th>\n",
       "      <td>377</td>\n",
       "      <td>5623</td>\n",
       "    </tr>\n",
       "  </tbody>\n",
       "</table>\n",
       "</div>"
      ],
      "text/plain": [
       "               Predicted non-spam  Predicted spam\n",
       "True non-spam                5454             546\n",
       "True spam                     377            5623"
      ]
     },
     "metadata": {},
     "output_type": "display_data"
    }
   ],
   "source": [
    "# Generate confusion matrix\n",
    "cf_matrix = confusion_matrix(y_test, y_test_pred)\n",
    "\n",
    "# label rows and columns\n",
    "cf_df = pd.DataFrame(\n",
    "    cf_matrix, \n",
    "    columns=[\"Predicted non-spam\", \"Predicted spam\"],\n",
    "    index=[\"True non-spam\", \"True spam\"]\n",
    ")\n",
    "\n",
    "display(cf_df)"
   ]
  },
  {
   "cell_type": "markdown",
   "id": "4fe75f46",
   "metadata": {},
   "source": [
    "Out of 6000 non-spam (legitimate) emails, the model correctly predicted 5454 as non-spam and incorrectly classified 546 as spam.\n",
    "Out of 6000 spam emails, the model correctly predicted 5623 as spam and misclassified 377 as non-spam."
   ]
  },
  {
   "cell_type": "code",
   "execution_count": 20,
   "id": "0a6d4653",
   "metadata": {},
   "outputs": [
    {
     "data": {
      "image/png": "[encoded data removed]",
      "text/plain": [
       "<Figure size 640x480 with 2 Axes>"
      ]
     },
     "metadata": {},
     "output_type": "display_data"
    }
   ],
   "source": [
    "# Visualize confusion matrix\n",
    "ConfusionMatrixDisplay(cf_matrix).plot()\n",
    "plt.show()"
   ]
  },
  {
   "cell_type": "code",
   "execution_count": 22,
   "id": "0c272c6a",
   "metadata": {},
   "outputs": [
    {
     "name": "stdout",
     "output_type": "stream",
     "text": [
      "Type 1 Error (False Positive Rate): 0.0885\n"
     ]
    }
   ],
   "source": [
    "# Calculate True Positives (TP), False Positives (FP), True Negatives (TN), False Negatives (FN)\n",
    "TP = cf_matrix[1, 1]\n",
    "FP = cf_matrix[0, 1]\n",
    "\n",
    "# Calculate Type 1 error (False Positive Rate)\n",
    "type_1_error = FP / (FP + TP)\n",
    "print(f\"Type 1 Error (False Positive Rate): {type_1_error:.4f}\")"
   ]
  },
  {
   "cell_type": "markdown",
   "id": "382ad895",
   "metadata": {},
   "source": [
    "<a id = \"sv\"></a>\n",
    "### 2.3. Sentence2Vec Model Evaluation"
   ]
  },
  {
   "cell_type": "markdown",
   "id": "b7835591",
   "metadata": {},
   "source": [
    "Next we train the model created according to the same model architecture  using the dataset that has features from sentence embeddings of the email messages."
   ]
  },
  {
   "cell_type": "code",
   "execution_count": 23,
   "id": "3a6d5ba1",
   "metadata": {},
   "outputs": [
    {
     "name": "stdout",
     "output_type": "stream",
     "text": [
      "Train Accuracy: 0.9755\n",
      "Validation Accuracy: 0.9730\n",
      "Test Accuracy: 0.9714\n",
      "375/375 [==============================] - 0s 780us/step\n",
      "Classification Report for Test Data:\n",
      "              precision    recall  f1-score   support\n",
      "\n",
      "           0       0.99      0.96      0.97      6000\n",
      "           1       0.96      0.99      0.97      6000\n",
      "\n",
      "    accuracy                           0.97     12000\n",
      "   macro avg       0.97      0.97      0.97     12000\n",
      "weighted avg       0.97      0.97      0.97     12000\n",
      "\n"
     ]
    }
   ],
   "source": [
    "# random seeds for reproducibility\n",
    "tf.random.set_seed(123)\n",
    "\n",
    "# Create a new sequential model\n",
    "model = keras.Sequential()\n",
    "\n",
    "# Declare the hidden layers\n",
    "model.add(layers.Dense(40, activation=\"relu\"))\n",
    "model.add(layers.Dropout(0.2))\n",
    "model.add(layers.BatchNormalization()) \n",
    "\n",
    "model.add(layers.Dense(40, activation=\"relu\"))\n",
    "model.add(layers.Dropout(0.2))\n",
    "model.add(layers.BatchNormalization()) \n",
    "\n",
    "model.add(layers.Dense(40, activation=\"relu\")) \n",
    "model.add(layers.Dropout(0.2))\n",
    "\n",
    "# Declare the output layer\n",
    "model.add(layers.Dense(1, activation=\"sigmoid\"))\n",
    "\n",
    "model.compile(\n",
    "    optimizer=keras.optimizers.Adam(),  \n",
    "    loss=keras.losses.BinaryCrossentropy(),\n",
    "    metrics=[keras.metrics.BinaryAccuracy()]\n",
    ")\n",
    "\n",
    "# Train the network\n",
    "history = model.fit(X_train_Vec, y_train, epochs=500, verbose=0)\n",
    "\n",
    "# Evaluate the network\n",
    "train_accuracy = history.history[\"binary_accuracy\"][-1]\n",
    "result1 = model.evaluate(X_val_Vec,y_validation, verbose=0)\n",
    "result2 = model.evaluate(X_test_Vec,y_test, verbose=0)\n",
    "\n",
    "print(f\"Train Accuracy: {train_accuracy:.4f}\")\n",
    "print(f\"Validation Accuracy: {result1[1]:.4f}\")\n",
    "print(f\"Test Accuracy: {result2[1]:.4f}\")\n",
    "\n",
    "y_test_pred = model.predict(X_test_Vec)\n",
    "y_test_pred = np.round(y_test_pred).flatten()\n",
    "y_test = np.asarray(y_test, dtype=int)\n",
    "\n",
    "# Print classification report for test data\n",
    "print(\"Classification Report for Test Data:\")\n",
    "print(classification_report(y_test, y_test_pred))"
   ]
  },
  {
   "cell_type": "code",
   "execution_count": 24,
   "id": "43c9206b",
   "metadata": {},
   "outputs": [
    {
     "data": {
      "text/html": [
       "<div>\n",
       "<style scoped>\n",
       "    .dataframe tbody tr th:only-of-type {\n",
       "        vertical-align: middle;\n",
       "    }\n",
       "\n",
       "    .dataframe tbody tr th {\n",
       "        vertical-align: top;\n",
       "    }\n",
       "\n",
       "    .dataframe thead th {\n",
       "        text-align: right;\n",
       "    }\n",
       "</style>\n",
       "<table border=\"1\" class=\"dataframe\">\n",
       "  <thead>\n",
       "    <tr style=\"text-align: right;\">\n",
       "      <th></th>\n",
       "      <th>Predicted non-spam</th>\n",
       "      <th>Predicted spam</th>\n",
       "    </tr>\n",
       "  </thead>\n",
       "  <tbody>\n",
       "    <tr>\n",
       "      <th>True non-spam</th>\n",
       "      <td>5744</td>\n",
       "      <td>256</td>\n",
       "    </tr>\n",
       "    <tr>\n",
       "      <th>True spam</th>\n",
       "      <td>87</td>\n",
       "      <td>5913</td>\n",
       "    </tr>\n",
       "  </tbody>\n",
       "</table>\n",
       "</div>"
      ],
      "text/plain": [
       "               Predicted non-spam  Predicted spam\n",
       "True non-spam                5744             256\n",
       "True spam                      87            5913"
      ]
     },
     "metadata": {},
     "output_type": "display_data"
    }
   ],
   "source": [
    "# Generate confusion matrix\n",
    "cf_matrix = confusion_matrix(y_test, y_test_pred)\n",
    "\n",
    "# label rows and columns\n",
    "cf_df = pd.DataFrame(\n",
    "    cf_matrix, \n",
    "    columns=[\"Predicted non-spam\", \"Predicted spam\"],\n",
    "    index=[\"True non-spam\", \"True spam\"]\n",
    ")\n",
    "\n",
    "display(cf_df)"
   ]
  },
  {
   "cell_type": "code",
   "execution_count": 25,
   "id": "3c66df02",
   "metadata": {},
   "outputs": [
    {
     "data": {
      "image/png": "[encoded data removed]",
      "text/plain": [
       "<Figure size 640x480 with 2 Axes>"
      ]
     },
     "metadata": {},
     "output_type": "display_data"
    }
   ],
   "source": [
    "# Visualize confusion matrix\n",
    "ConfusionMatrixDisplay(cf_matrix).plot()\n",
    "plt.show()"
   ]
  },
  {
   "cell_type": "code",
   "execution_count": 26,
   "id": "d284d6d7",
   "metadata": {},
   "outputs": [
    {
     "name": "stdout",
     "output_type": "stream",
     "text": [
      "Type 1 Error (False Positive Rate): 0.0415\n"
     ]
    }
   ],
   "source": [
    "# Calculate True Positives (TP), False Positives (FP), True Negatives (TN), False Negatives (FN)\n",
    "TP = cf_matrix[1, 1]\n",
    "FP = cf_matrix[0, 1]\n",
    "\n",
    "# Calculate Type 1 error (False Positive Rate)\n",
    "type_1_error = FP / (FP + TP)\n",
    "print(f\"Type 1 Error (False Positive Rate): {type_1_error:.4f}\")"
   ]
  },
  {
   "cell_type": "markdown",
   "id": "18ed0b6e",
   "metadata": {},
   "source": [
    "<a id = \"bm\"></a>\n",
    "### 2.4. Best Model"
   ]
  },
  {
   "cell_type": "markdown",
   "id": "cdd53739",
   "metadata": {},
   "source": [
    "We don’t want non-spam emails to be predicted as spam. So choose the best model as the one with lowest Type 1 error or false positives. In this case, the model using sentence embedding has the lowest Type 1 Error. The f1 score of the model is also higher. So we choose the second model as the best model."
   ]
  },
  {
   "cell_type": "markdown",
   "id": "baafa4c9",
   "metadata": {},
   "source": [
    "<a id = \"fd\"></a>\n",
    "## 3. Findings"
   ]
  },
  {
   "cell_type": "markdown",
   "id": "9e9f7d72",
   "metadata": {},
   "source": [
    "After conducting the spam email detection project, the following key findings were observed:\n",
    "\n",
    "Feature Engineering: Comprehensive feature engineering techniques, including string extraction, one-hot encoding, word counts, and topic modeling, sentence embedding significantly improved the data quality and helped in capturing essential textual information from email subjects and messages.\n",
    "\n",
    "Model Performance: The XGBoost model demonstrated outstanding performance in distinguishing spam from legitimate emails. With an accuracy of 92.68% and an F1 score of 0.93, it achieved a high level of precision and recall.\n",
    "\n",
    "TF-IDF vs. Sentence2Vec: Comparing two text representation methods, TF-IDF Vectorizer and Sentence2Vec, revealed that both approaches produced competitive results. The choice of representation depends on specific application requirements and the trade-offs between interpretability and effectiveness.\n",
    "\n",
    "Further Improvements: To enhance the model's capabilities, advanced natural language processing techniques like transformer-based models and attention mechanisms could be explored for better understanding and capturing nuances in spam emails."
   ]
  },
  {
   "cell_type": "markdown",
   "id": "d2ecd935",
   "metadata": {},
   "source": [
    "<a id = \"con\"></a>\n",
    "## 4. Conclusion"
   ]
  },
  {
   "cell_type": "markdown",
   "id": "7d61ee6a",
   "metadata": {},
   "source": [
    "The spam email detection project aimed to develop an efficient and accurate model to differentiate between spam and legitimate emails. Through rigorous feature engineering and careful selection of text representation methods, we created a robust system that demonstrated exceptional performance."
   ]
  },
  {
   "cell_type": "code",
   "execution_count": null,
   "id": "557dd1b0",
   "metadata": {},
   "outputs": [],
   "source": []
  }
 ],
 "metadata": {
  "kernelspec": {
   "display_name": "deeplearning",
   "language": "python",
   "name": "deeplearning"
  },
  "language_info": {
   "codemirror_mode": {
    "name": "ipython",
    "version": 3
   },
   "file_extension": ".py",
   "mimetype": "text/x-python",
   "name": "python",
   "nbconvert_exporter": "python",
   "pygments_lexer": "ipython3",
   "version": "3.8.17"
  }
 },
 "nbformat": 4,
 "nbformat_minor": 5
}
