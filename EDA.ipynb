{
 "cells": [
  {
   "cell_type": "markdown",
   "id": "3266334d",
   "metadata": {},
   "source": [
    "# Email Spam detection EDA\n",
    "Prepared By Deepa Francis<br>\n",
    "For BrainStation<br>\n",
    "On July 20, 2023"
   ]
  },
  {
   "cell_type": "code",
   "execution_count": 1,
   "id": "5cd0f61b",
   "metadata": {},
   "outputs": [
    {
     "name": "stderr",
     "output_type": "stream",
     "text": [
      "[nltk_data] Downloading package stopwords to\n",
      "[nltk_data]     C:\\Users\\franc\\AppData\\Roaming\\nltk_data...\n",
      "[nltk_data]   Package stopwords is already up-to-date!\n"
     ]
    }
   ],
   "source": [
    "# import relevant packages\n",
    "import pandas as pd\n",
    "import numpy as np\n",
    "import matplotlib.pyplot as plt\n",
    "import seaborn as sns\n",
    "import statsmodels.api as sm\n",
    "from scipy import stats\n",
    "from scipy.stats import norm\n",
    "\n",
    "from sklearn.preprocessing import OneHotEncoder\n",
    "from sklearn.model_selection import train_test_split\n",
    "from sklearn.feature_extraction.text import CountVectorizer\n",
    "from sklearn.linear_model import LogisticRegression\n",
    "from sklearn.metrics import accuracy_score\n",
    "from sklearn.pipeline import Pipeline\n",
    "from sklearn.pipeline import FeatureUnion\n",
    "from sklearn.feature_extraction.text import TfidfVectorizer\n",
    "\n",
    "import warnings\n",
    "warnings.filterwarnings('ignore')\n",
    "\n",
    "import re\n",
    "import string\n",
    "import nltk\n",
    "nltk.download('stopwords')\n",
    "from nltk.corpus import stopwords \n",
    "\n",
    "# display all columns in dataframe\n",
    "pd.set_option('display.max_columns', None)"
   ]
  },
  {
   "cell_type": "code",
   "execution_count": 2,
   "id": "feda34f1",
   "metadata": {},
   "outputs": [],
   "source": [
    "# loading the data\n",
    "raw_data = pd.read_csv('raw_data.csv')"
   ]
  },
  {
   "cell_type": "code",
   "execution_count": 3,
   "id": "7934ed8a",
   "metadata": {},
   "outputs": [
    {
     "name": "stdout",
     "output_type": "stream",
     "text": [
      "Number of Rows: 75419\n",
      "Number of Columns: 5\n",
      "Number of missing values: 2856\n",
      "Number of duplicated rows: 1512\n"
     ]
    }
   ],
   "source": [
    "# Summary of raw data\n",
    "print(f\"Number of Rows: {raw_data.shape[0]}\")\n",
    "print(f\"Number of Columns: {raw_data.shape[1]}\")\n",
    "print(f\"Number of missing values: {raw_data.isna().sum().sum()}\")\n",
    "print(f\"Number of duplicated rows: {raw_data.duplicated().sum()}\")"
   ]
  },
  {
   "cell_type": "code",
   "execution_count": 4,
   "id": "f1fa57e7",
   "metadata": {},
   "outputs": [
    {
     "name": "stdout",
     "output_type": "stream",
     "text": [
      "<class 'pandas.core.frame.DataFrame'>\n",
      "RangeIndex: 75419 entries, 0 to 75418\n",
      "Data columns (total 5 columns):\n",
      " #   Column      Non-Null Count  Dtype \n",
      "---  ------      --------------  ----- \n",
      " 0   label       75419 non-null  int64 \n",
      " 1   subject     74626 non-null  object\n",
      " 2   email_to    74843 non-null  object\n",
      " 3   email_from  75419 non-null  object\n",
      " 4   message     73932 non-null  object\n",
      "dtypes: int64(1), object(4)\n",
      "memory usage: 2.9+ MB\n"
     ]
    }
   ],
   "source": [
    "# Quickly check the data types\n",
    "raw_data.info()"
   ]
  },
  {
   "cell_type": "markdown",
   "id": "73c6e4f1",
   "metadata": {},
   "source": [
    "**Missing values**"
   ]
  },
  {
   "cell_type": "code",
   "execution_count": 10,
   "id": "03759ee9",
   "metadata": {},
   "outputs": [
    {
     "data": {
      "text/plain": [
       "label            0\n",
       "subject        793\n",
       "email_to       576\n",
       "email_from       0\n",
       "message       1487\n",
       "dtype: int64"
      ]
     },
     "execution_count": 10,
     "metadata": {},
     "output_type": "execute_result"
    }
   ],
   "source": [
    "clean_data = raw_data.copy()\n",
    "# Check column wise count of missing values\n",
    "clean_data.isna().sum()"
   ]
  },
  {
   "cell_type": "code",
   "execution_count": 11,
   "id": "ef0d7910",
   "metadata": {},
   "outputs": [
    {
     "name": "stdout",
     "output_type": "stream",
     "text": [
      "label         0.00\n",
      "subject       1.05\n",
      "email_to      0.76\n",
      "email_from    0.00\n",
      "message       1.97\n",
      "dtype: float64\n"
     ]
    }
   ],
   "source": [
    "# Calculate the percentage of missing values\n",
    "percentage_missing = (clean_data.isna().sum() / len(clean_data)) * 100\n",
    "print(np.round(percentage_missing,2))"
   ]
  },
  {
   "cell_type": "code",
   "execution_count": 12,
   "id": "4aa694c1",
   "metadata": {},
   "outputs": [
    {
     "data": {
      "text/plain": [
       "2856"
      ]
     },
     "execution_count": 12,
     "metadata": {},
     "output_type": "execute_result"
    }
   ],
   "source": [
    "# Check column wise count of missing values\n",
    "clean_data.isna().sum().sum()"
   ]
  },
  {
   "cell_type": "code",
   "execution_count": 13,
   "id": "bee97252",
   "metadata": {},
   "outputs": [
    {
     "name": "stdout",
     "output_type": "stream",
     "text": [
      "3.79\n"
     ]
    }
   ],
   "source": [
    "# Calculate the percentage of missing values\n",
    "total_percentage_missing = (clean_data.isna().sum().sum() / len(clean_data)) * 100\n",
    "print(np.round(total_percentage_missing,2))"
   ]
  },
  {
   "cell_type": "code",
   "execution_count": 14,
   "id": "f00ba64f",
   "metadata": {},
   "outputs": [
    {
     "name": "stdout",
     "output_type": "stream",
     "text": [
      "<class 'pandas.core.frame.DataFrame'>\n",
      "Int64Index: 72798 entries, 0 to 75418\n",
      "Data columns (total 5 columns):\n",
      " #   Column      Non-Null Count  Dtype \n",
      "---  ------      --------------  ----- \n",
      " 0   label       72798 non-null  int64 \n",
      " 1   subject     72798 non-null  object\n",
      " 2   email_to    72798 non-null  object\n",
      " 3   email_from  72798 non-null  object\n",
      " 4   message     72798 non-null  object\n",
      "dtypes: int64(1), object(4)\n",
      "memory usage: 3.3+ MB\n"
     ]
    }
   ],
   "source": [
    "# Delete missing value rows \n",
    "clean_data.dropna(inplace = True, axis=0)\n",
    "clean_data.info()"
   ]
  },
  {
   "cell_type": "code",
   "execution_count": null,
   "id": "22d07a19",
   "metadata": {},
   "outputs": [],
   "source": []
  }
 ],
 "metadata": {
  "kernelspec": {
   "display_name": "Python 3 (ipykernel)",
   "language": "python",
   "name": "python3"
  },
  "language_info": {
   "codemirror_mode": {
    "name": "ipython",
    "version": 3
   },
   "file_extension": ".py",
   "mimetype": "text/x-python",
   "name": "python",
   "nbconvert_exporter": "python",
   "pygments_lexer": "ipython3",
   "version": "3.10.9"
  }
 },
 "nbformat": 4,
 "nbformat_minor": 5
}
