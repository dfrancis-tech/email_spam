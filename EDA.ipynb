{
 "cells": [
  {
   "cell_type": "markdown",
   "id": "ca0e4e21",
   "metadata": {},
   "source": [
    "# Email Spam detection EDA\n",
    "Prepared By Deepa Francis<br>\n",
    "For BrainStation<br>\n",
    "On July 20, 2023"
   ]
  },
  {
   "cell_type": "code",
   "execution_count": 1,
   "id": "0851cb7f",
   "metadata": {},
   "outputs": [
    {
     "name": "stderr",
     "output_type": "stream",
     "text": [
      "[nltk_data] Downloading package stopwords to\n",
      "[nltk_data]     C:\\Users\\franc\\AppData\\Roaming\\nltk_data...\n",
      "[nltk_data]   Package stopwords is already up-to-date!\n"
     ]
    }
   ],
   "source": [
    "# import relevant packages\n",
    "import pandas as pd\n",
    "import numpy as np\n",
    "import matplotlib.pyplot as plt\n",
    "import seaborn as sns\n",
    "import statsmodels.api as sm\n",
    "from scipy import stats\n",
    "from scipy.stats import norm\n",
    "\n",
    "from sklearn.preprocessing import OneHotEncoder\n",
    "from sklearn.model_selection import train_test_split\n",
    "from sklearn.feature_extraction.text import CountVectorizer\n",
    "from sklearn.linear_model import LogisticRegression\n",
    "from sklearn.metrics import accuracy_score\n",
    "from sklearn.pipeline import Pipeline\n",
    "from sklearn.pipeline import FeatureUnion\n",
    "from sklearn.feature_extraction.text import TfidfVectorizer\n",
    "\n",
    "import warnings\n",
    "warnings.filterwarnings('ignore')\n",
    "\n",
    "import re\n",
    "import string\n",
    "import nltk\n",
    "nltk.download('stopwords')\n",
    "from nltk.corpus import stopwords \n",
    "\n",
    "# display all columns in dataframe\n",
    "pd.set_option('display.max_columns', None)"
   ]
  },
  {
   "cell_type": "code",
   "execution_count": 2,
   "id": "7f433fcf",
   "metadata": {},
   "outputs": [],
   "source": [
    "# loading the data\n",
    "raw_data = pd.read_csv('raw_data.csv')"
   ]
  },
  {
   "cell_type": "code",
   "execution_count": 3,
   "id": "7ff30729",
   "metadata": {},
   "outputs": [
    {
     "name": "stdout",
     "output_type": "stream",
     "text": [
      "Number of Rows: 75419\n",
      "Number of Columns: 5\n",
      "Number of missing values: 2856\n",
      "Number of duplicated rows: 1512\n"
     ]
    }
   ],
   "source": [
    "# Summary of raw data\n",
    "print(f\"Number of Rows: {raw_data.shape[0]}\")\n",
    "print(f\"Number of Columns: {raw_data.shape[1]}\")\n",
    "print(f\"Number of missing values: {raw_data.isna().sum().sum()}\")\n",
    "print(f\"Number of duplicated rows: {raw_data.duplicated().sum()}\")"
   ]
  },
  {
   "cell_type": "code",
   "execution_count": 4,
   "id": "65164f49",
   "metadata": {},
   "outputs": [
    {
     "name": "stdout",
     "output_type": "stream",
     "text": [
      "<class 'pandas.core.frame.DataFrame'>\n",
      "RangeIndex: 75419 entries, 0 to 75418\n",
      "Data columns (total 5 columns):\n",
      " #   Column      Non-Null Count  Dtype \n",
      "---  ------      --------------  ----- \n",
      " 0   label       75419 non-null  int64 \n",
      " 1   subject     74626 non-null  object\n",
      " 2   email_to    74843 non-null  object\n",
      " 3   email_from  75419 non-null  object\n",
      " 4   message     73932 non-null  object\n",
      "dtypes: int64(1), object(4)\n",
      "memory usage: 2.9+ MB\n"
     ]
    }
   ],
   "source": [
    "# Quickly check the data types\n",
    "raw_data.info()"
   ]
  },
  {
   "cell_type": "markdown",
   "id": "22a29524",
   "metadata": {},
   "source": [
    "**Missing values**"
   ]
  },
  {
   "cell_type": "code",
   "execution_count": 10,
   "id": "3564c2cd",
   "metadata": {},
   "outputs": [
    {
     "data": {
      "text/plain": [
       "label            0\n",
       "subject        793\n",
       "email_to       576\n",
       "email_from       0\n",
       "message       1487\n",
       "dtype: int64"
      ]
     },
     "execution_count": 10,
     "metadata": {},
     "output_type": "execute_result"
    }
   ],
   "source": [
    "clean_data = raw_data.copy()\n",
    "# Check column wise count of missing values\n",
    "clean_data.isna().sum()"
   ]
  },
  {
   "cell_type": "code",
   "execution_count": 11,
   "id": "c3abf0a2",
   "metadata": {},
   "outputs": [
    {
     "name": "stdout",
     "output_type": "stream",
     "text": [
      "label         0.00\n",
      "subject       1.05\n",
      "email_to      0.76\n",
      "email_from    0.00\n",
      "message       1.97\n",
      "dtype: float64\n"
     ]
    }
   ],
   "source": [
    "# Calculate the percentage of missing values\n",
    "percentage_missing = (clean_data.isna().sum() / len(clean_data)) * 100\n",
    "print(np.round(percentage_missing,2))"
   ]
  },
  {
   "cell_type": "code",
   "execution_count": 12,
   "id": "3efe2f2c",
   "metadata": {},
   "outputs": [
    {
     "data": {
      "text/plain": [
       "2856"
      ]
     },
     "execution_count": 12,
     "metadata": {},
     "output_type": "execute_result"
    }
   ],
   "source": [
    "# Check column wise count of missing values\n",
    "clean_data.isna().sum().sum()"
   ]
  },
  {
   "cell_type": "code",
   "execution_count": 13,
   "id": "55fe0fda",
   "metadata": {},
   "outputs": [
    {
     "name": "stdout",
     "output_type": "stream",
     "text": [
      "3.79\n"
     ]
    }
   ],
   "source": [
    "# Calculate the percentage of missing values\n",
    "total_percentage_missing = (clean_data.isna().sum().sum() / len(clean_data)) * 100\n",
    "print(np.round(total_percentage_missing,2))"
   ]
  },
  {
   "cell_type": "code",
   "execution_count": 14,
   "id": "9db45656",
   "metadata": {},
   "outputs": [
    {
     "name": "stdout",
     "output_type": "stream",
     "text": [
      "<class 'pandas.core.frame.DataFrame'>\n",
      "Int64Index: 72798 entries, 0 to 75418\n",
      "Data columns (total 5 columns):\n",
      " #   Column      Non-Null Count  Dtype \n",
      "---  ------      --------------  ----- \n",
      " 0   label       72798 non-null  int64 \n",
      " 1   subject     72798 non-null  object\n",
      " 2   email_to    72798 non-null  object\n",
      " 3   email_from  72798 non-null  object\n",
      " 4   message     72798 non-null  object\n",
      "dtypes: int64(1), object(4)\n",
      "memory usage: 3.3+ MB\n"
     ]
    }
   ],
   "source": [
    "# Delete missing value rows \n",
    "clean_data.dropna(inplace = True, axis=0)\n",
    "clean_data.info()"
   ]
  },
  {
   "cell_type": "markdown",
   "id": "ce164c9f",
   "metadata": {},
   "source": [
    "**Duplicate Rows**"
   ]
  },
  {
   "cell_type": "code",
   "execution_count": 16,
   "id": "2a27fc92",
   "metadata": {},
   "outputs": [
    {
     "data": {
      "text/plain": [
       "1354"
      ]
     },
     "execution_count": 16,
     "metadata": {},
     "output_type": "execute_result"
    }
   ],
   "source": [
    "# Remaining Duplicated rows\n",
    "clean_data.duplicated().sum()"
   ]
  },
  {
   "cell_type": "code",
   "execution_count": 17,
   "id": "fa7b51d6",
   "metadata": {},
   "outputs": [
    {
     "name": "stdout",
     "output_type": "stream",
     "text": [
      "Percentage of duplicate rows: 1.86\n"
     ]
    }
   ],
   "source": [
    "# Calculate the percentage of duplicate rows\n",
    "percentage_duplicates = (clean_data.duplicated().sum() / len(clean_data\n",
    "                                                            )) * 100\n",
    "print(\"Percentage of duplicate rows:\", np.round(percentage_duplicates,2))"
   ]
  },
  {
   "cell_type": "markdown",
   "id": "570c40ef",
   "metadata": {},
   "source": [
    "We decide to drop duplicate rows because these could be same message content, from same email, sent to same person at different times and we dont have the timestamp to get any additional information from it."
   ]
  },
  {
   "cell_type": "code",
   "execution_count": 18,
   "id": "937388e1",
   "metadata": {},
   "outputs": [
    {
     "name": "stdout",
     "output_type": "stream",
     "text": [
      "<class 'pandas.core.frame.DataFrame'>\n",
      "Int64Index: 71444 entries, 0 to 75418\n",
      "Data columns (total 5 columns):\n",
      " #   Column      Non-Null Count  Dtype \n",
      "---  ------      --------------  ----- \n",
      " 0   label       71444 non-null  int64 \n",
      " 1   subject     71444 non-null  object\n",
      " 2   email_to    71444 non-null  object\n",
      " 3   email_from  71444 non-null  object\n",
      " 4   message     71444 non-null  object\n",
      "dtypes: int64(1), object(4)\n",
      "memory usage: 3.3+ MB\n"
     ]
    }
   ],
   "source": [
    "# Drop duplicated rows \n",
    "clean_data.drop_duplicates(inplace=True)\n",
    "clean_data.info()"
   ]
  },
  {
   "cell_type": "code",
   "execution_count": 19,
   "id": "52280be6",
   "metadata": {},
   "outputs": [
    {
     "data": {
      "text/plain": [
       "(71444, 5)"
      ]
     },
     "execution_count": 19,
     "metadata": {},
     "output_type": "execute_result"
    }
   ],
   "source": [
    "clean_data.shape"
   ]
  },
  {
   "cell_type": "code",
   "execution_count": 20,
   "id": "900a3d8d",
   "metadata": {},
   "outputs": [
    {
     "name": "stdout",
     "output_type": "stream",
     "text": [
      "Number of Rows: 71444\n",
      "Number of Columns: 5\n",
      "Number of missing values: 0\n",
      "Number of duplicated rows: 0\n"
     ]
    }
   ],
   "source": [
    "# Summary of clean data\n",
    "print(f\"Number of Rows: {clean_data.shape[0]}\")\n",
    "print(f\"Number of Columns: {clean_data.shape[1]}\")\n",
    "print(f\"Number of missing values: {clean_data.isna().sum().sum()}\")\n",
    "print(f\"Number of duplicated rows: {clean_data.duplicated().sum()}\")"
   ]
  },
  {
   "cell_type": "code",
   "execution_count": 21,
   "id": "c6d41d2f",
   "metadata": {},
   "outputs": [
    {
     "data": {
      "text/html": [
       "<div>\n",
       "<style scoped>\n",
       "    .dataframe tbody tr th:only-of-type {\n",
       "        vertical-align: middle;\n",
       "    }\n",
       "\n",
       "    .dataframe tbody tr th {\n",
       "        vertical-align: top;\n",
       "    }\n",
       "\n",
       "    .dataframe thead th {\n",
       "        text-align: right;\n",
       "    }\n",
       "</style>\n",
       "<table border=\"1\" class=\"dataframe\">\n",
       "  <thead>\n",
       "    <tr style=\"text-align: right;\">\n",
       "      <th></th>\n",
       "      <th>label</th>\n",
       "      <th>subject</th>\n",
       "      <th>email_to</th>\n",
       "      <th>email_from</th>\n",
       "      <th>message</th>\n",
       "    </tr>\n",
       "  </thead>\n",
       "  <tbody>\n",
       "    <tr>\n",
       "      <th>0</th>\n",
       "      <td>1</td>\n",
       "      <td>Generic Cialis, branded quality@</td>\n",
       "      <td>the00@speedy.uwaterloo.ca</td>\n",
       "      <td>\"Tomas Jacobs\" &lt;RickyAmes@aol.com&gt;</td>\n",
       "      <td>Content-Type: text/html;\\nContent-Transfer-Enc...</td>\n",
       "    </tr>\n",
       "    <tr>\n",
       "      <th>1</th>\n",
       "      <td>0</td>\n",
       "      <td>Typo in /debian/README</td>\n",
       "      <td>debian-mirrors@lists.debian.org</td>\n",
       "      <td>Yan Morin &lt;yan.morin@savoirfairelinux.com&gt;</td>\n",
       "      <td>Hi, i've just updated from the gulus and I che...</td>\n",
       "    </tr>\n",
       "    <tr>\n",
       "      <th>2</th>\n",
       "      <td>1</td>\n",
       "      <td>authentic viagra</td>\n",
       "      <td>&lt;the00@plg.uwaterloo.ca&gt;</td>\n",
       "      <td>\"Sheila Crenshaw\" &lt;7stocknews@tractionmarketin...</td>\n",
       "      <td>Content-Type: text/plain;\\n\\tcharset=\"iso-8859...</td>\n",
       "    </tr>\n",
       "    <tr>\n",
       "      <th>3</th>\n",
       "      <td>1</td>\n",
       "      <td>Nice talking with ya</td>\n",
       "      <td>opt4@speedy.uwaterloo.ca</td>\n",
       "      <td>\"Stormy Dempsey\" &lt;vqucsmdfgvsg@ruraltek.com&gt;</td>\n",
       "      <td>Hey Billy, \\n\\nit was really fun going out the...</td>\n",
       "    </tr>\n",
       "    <tr>\n",
       "      <th>4</th>\n",
       "      <td>1</td>\n",
       "      <td>or trembling; stomach cramps; trouble in sleep...</td>\n",
       "      <td>ktwarwic@speedy.uwaterloo.ca</td>\n",
       "      <td>\"Christi T. Jernigan\" &lt;dcube@totalink.net&gt;</td>\n",
       "      <td>Content-Type: multipart/alternative;\\n        ...</td>\n",
       "    </tr>\n",
       "  </tbody>\n",
       "</table>\n",
       "</div>"
      ],
      "text/plain": [
       "   label                                            subject  \\\n",
       "0      1                  Generic Cialis, branded quality@    \n",
       "1      0                             Typo in /debian/README   \n",
       "2      1                                   authentic viagra   \n",
       "3      1                               Nice talking with ya   \n",
       "4      1  or trembling; stomach cramps; trouble in sleep...   \n",
       "\n",
       "                          email_to  \\\n",
       "0        the00@speedy.uwaterloo.ca   \n",
       "1  debian-mirrors@lists.debian.org   \n",
       "2         <the00@plg.uwaterloo.ca>   \n",
       "3         opt4@speedy.uwaterloo.ca   \n",
       "4     ktwarwic@speedy.uwaterloo.ca   \n",
       "\n",
       "                                          email_from  \\\n",
       "0                 \"Tomas Jacobs\" <RickyAmes@aol.com>   \n",
       "1         Yan Morin <yan.morin@savoirfairelinux.com>   \n",
       "2  \"Sheila Crenshaw\" <7stocknews@tractionmarketin...   \n",
       "3       \"Stormy Dempsey\" <vqucsmdfgvsg@ruraltek.com>   \n",
       "4         \"Christi T. Jernigan\" <dcube@totalink.net>   \n",
       "\n",
       "                                             message  \n",
       "0  Content-Type: text/html;\\nContent-Transfer-Enc...  \n",
       "1  Hi, i've just updated from the gulus and I che...  \n",
       "2  Content-Type: text/plain;\\n\\tcharset=\"iso-8859...  \n",
       "3  Hey Billy, \\n\\nit was really fun going out the...  \n",
       "4  Content-Type: multipart/alternative;\\n        ...  "
      ]
     },
     "execution_count": 21,
     "metadata": {},
     "output_type": "execute_result"
    }
   ],
   "source": [
    "clean_data.head()"
   ]
  },
  {
   "cell_type": "code",
   "execution_count": 22,
   "id": "5404000f",
   "metadata": {},
   "outputs": [],
   "source": [
    "X = clean_data.drop(columns='label')\n",
    "y = clean_data['label']"
   ]
  },
  {
   "cell_type": "markdown",
   "id": "f6b549c7",
   "metadata": {},
   "source": [
    "## Target"
   ]
  },
  {
   "cell_type": "code",
   "execution_count": 23,
   "id": "29ecd533",
   "metadata": {},
   "outputs": [
    {
     "data": {
      "text/plain": [
       "1    46768\n",
       "0    24676\n",
       "Name: label, dtype: int64"
      ]
     },
     "execution_count": 23,
     "metadata": {},
     "output_type": "execute_result"
    }
   ],
   "source": [
    "label_counts = y.value_counts()\n",
    "label_counts"
   ]
  },
  {
   "cell_type": "code",
   "execution_count": 24,
   "id": "20e36e0b",
   "metadata": {},
   "outputs": [
    {
     "data": {
      "text/plain": [
       "Text(0, 0.5, 'Count')"
      ]
     },
     "execution_count": 24,
     "metadata": {},
     "output_type": "execute_result"
    },
    {
     "data": {
      "image/png": "[encoded data removed]",
      "text/plain": [
       "<Figure size 640x480 with 1 Axes>"
      ]
     },
     "metadata": {},
     "output_type": "display_data"
    }
   ],
   "source": [
    "# Plot the unique values of target\n",
    "label_counts.plot(kind='bar')\n",
    "plt.title(\"Target class Breakup\")\n",
    "plt.xlabel(\"Target classes\")\n",
    "plt.ylabel(\"Count\")"
   ]
  },
  {
   "cell_type": "code",
   "execution_count": 25,
   "id": "c6e749f5",
   "metadata": {},
   "outputs": [
    {
     "data": {
      "text/plain": [
       "1    65.46106\n",
       "0    34.53894\n",
       "Name: label, dtype: float64"
      ]
     },
     "execution_count": 25,
     "metadata": {},
     "output_type": "execute_result"
    }
   ],
   "source": [
    "# Percentage value counts of target\n",
    "label_counts_percentage = y.value_counts(normalize=True) * 100\n",
    "label_counts_percentage"
   ]
  },
  {
   "cell_type": "code",
   "execution_count": 26,
   "id": "e868b2ee",
   "metadata": {},
   "outputs": [
    {
     "data": {
      "text/plain": [
       "Text(0, 0.5, 'Percentage')"
      ]
     },
     "execution_count": 26,
     "metadata": {},
     "output_type": "execute_result"
    },
    {
     "data": {
      "image/png": "[encoded data removed]",
      "text/plain": [
       "<Figure size 640x480 with 1 Axes>"
      ]
     },
     "metadata": {},
     "output_type": "display_data"
    }
   ],
   "source": [
    "# Plotting the value counts as percentages\n",
    "label_counts_percentage.plot(kind='bar')\n",
    "plt.title(\"Target class Percentage Breakup\")\n",
    "plt.xlabel(\"Target classes\")\n",
    "plt.ylabel(\"Percentage\")"
   ]
  },
  {
   "cell_type": "markdown",
   "id": "1cd22d89",
   "metadata": {},
   "source": [
    "## Features"
   ]
  },
  {
   "cell_type": "code",
   "execution_count": 27,
   "id": "25d35836",
   "metadata": {},
   "outputs": [
    {
     "data": {
      "text/html": [
       "<div>\n",
       "<style scoped>\n",
       "    .dataframe tbody tr th:only-of-type {\n",
       "        vertical-align: middle;\n",
       "    }\n",
       "\n",
       "    .dataframe tbody tr th {\n",
       "        vertical-align: top;\n",
       "    }\n",
       "\n",
       "    .dataframe thead th {\n",
       "        text-align: right;\n",
       "    }\n",
       "</style>\n",
       "<table border=\"1\" class=\"dataframe\">\n",
       "  <thead>\n",
       "    <tr style=\"text-align: right;\">\n",
       "      <th></th>\n",
       "      <th>subject</th>\n",
       "      <th>email_to</th>\n",
       "      <th>email_from</th>\n",
       "      <th>message</th>\n",
       "    </tr>\n",
       "  </thead>\n",
       "  <tbody>\n",
       "    <tr>\n",
       "      <th>0</th>\n",
       "      <td>Generic Cialis, branded quality@</td>\n",
       "      <td>the00@speedy.uwaterloo.ca</td>\n",
       "      <td>\"Tomas Jacobs\" &lt;RickyAmes@aol.com&gt;</td>\n",
       "      <td>Content-Type: text/html;\\nContent-Transfer-Enc...</td>\n",
       "    </tr>\n",
       "    <tr>\n",
       "      <th>1</th>\n",
       "      <td>Typo in /debian/README</td>\n",
       "      <td>debian-mirrors@lists.debian.org</td>\n",
       "      <td>Yan Morin &lt;yan.morin@savoirfairelinux.com&gt;</td>\n",
       "      <td>Hi, i've just updated from the gulus and I che...</td>\n",
       "    </tr>\n",
       "    <tr>\n",
       "      <th>2</th>\n",
       "      <td>authentic viagra</td>\n",
       "      <td>&lt;the00@plg.uwaterloo.ca&gt;</td>\n",
       "      <td>\"Sheila Crenshaw\" &lt;7stocknews@tractionmarketin...</td>\n",
       "      <td>Content-Type: text/plain;\\n\\tcharset=\"iso-8859...</td>\n",
       "    </tr>\n",
       "    <tr>\n",
       "      <th>3</th>\n",
       "      <td>Nice talking with ya</td>\n",
       "      <td>opt4@speedy.uwaterloo.ca</td>\n",
       "      <td>\"Stormy Dempsey\" &lt;vqucsmdfgvsg@ruraltek.com&gt;</td>\n",
       "      <td>Hey Billy, \\n\\nit was really fun going out the...</td>\n",
       "    </tr>\n",
       "    <tr>\n",
       "      <th>4</th>\n",
       "      <td>or trembling; stomach cramps; trouble in sleep...</td>\n",
       "      <td>ktwarwic@speedy.uwaterloo.ca</td>\n",
       "      <td>\"Christi T. Jernigan\" &lt;dcube@totalink.net&gt;</td>\n",
       "      <td>Content-Type: multipart/alternative;\\n        ...</td>\n",
       "    </tr>\n",
       "  </tbody>\n",
       "</table>\n",
       "</div>"
      ],
      "text/plain": [
       "                                             subject  \\\n",
       "0                  Generic Cialis, branded quality@    \n",
       "1                             Typo in /debian/README   \n",
       "2                                   authentic viagra   \n",
       "3                               Nice talking with ya   \n",
       "4  or trembling; stomach cramps; trouble in sleep...   \n",
       "\n",
       "                          email_to  \\\n",
       "0        the00@speedy.uwaterloo.ca   \n",
       "1  debian-mirrors@lists.debian.org   \n",
       "2         <the00@plg.uwaterloo.ca>   \n",
       "3         opt4@speedy.uwaterloo.ca   \n",
       "4     ktwarwic@speedy.uwaterloo.ca   \n",
       "\n",
       "                                          email_from  \\\n",
       "0                 \"Tomas Jacobs\" <RickyAmes@aol.com>   \n",
       "1         Yan Morin <yan.morin@savoirfairelinux.com>   \n",
       "2  \"Sheila Crenshaw\" <7stocknews@tractionmarketin...   \n",
       "3       \"Stormy Dempsey\" <vqucsmdfgvsg@ruraltek.com>   \n",
       "4         \"Christi T. Jernigan\" <dcube@totalink.net>   \n",
       "\n",
       "                                             message  \n",
       "0  Content-Type: text/html;\\nContent-Transfer-Enc...  \n",
       "1  Hi, i've just updated from the gulus and I che...  \n",
       "2  Content-Type: text/plain;\\n\\tcharset=\"iso-8859...  \n",
       "3  Hey Billy, \\n\\nit was really fun going out the...  \n",
       "4  Content-Type: multipart/alternative;\\n        ...  "
      ]
     },
     "execution_count": 27,
     "metadata": {},
     "output_type": "execute_result"
    }
   ],
   "source": [
    "X.head()"
   ]
  },
  {
   "cell_type": "markdown",
   "id": "c0592864",
   "metadata": {},
   "source": [
    "**Balancing and Sampling**"
   ]
  },
  {
   "cell_type": "code",
   "execution_count": 28,
   "id": "bee94ecb",
   "metadata": {},
   "outputs": [
    {
     "data": {
      "text/plain": [
       "58291"
      ]
     },
     "execution_count": 28,
     "metadata": {},
     "output_type": "execute_result"
    }
   ],
   "source": [
    "# Number of unique messages\n",
    "unique_messages = clean_data['message'].value_counts().count()\n",
    "unique_messages"
   ]
  },
  {
   "cell_type": "markdown",
   "id": "884316c6",
   "metadata": {},
   "source": [
    "There are 58291 unique email messages<br>\n",
    "We can keep just one instance of message. Keeping just one instance of each unique email message can have several advantages:\n",
    "\n",
    "Reduced Data Redundancy: Redundant data can bias the model, leading to overfitting and poor generalization. By keeping only one instance of each message, you ensure that the dataset is representative of unique email patterns, reducing redundancy and improving model performance.\n",
    "\n",
    "Efficient Feature Extraction: Redundant information can dominate the feature space, potentially diluting the significance of other relevant features. By eliminating duplicate instances, you maintain a more concise and informative feature space, facilitating more efficient and accurate learning."
   ]
  },
  {
   "cell_type": "code",
   "execution_count": 29,
   "id": "df7d1bdc",
   "metadata": {},
   "outputs": [
    {
     "name": "stdout",
     "output_type": "stream",
     "text": [
      "Number of unique spam messages: 33825\n",
      "Number of unique non-spam messages: 24468\n",
      "Number of unique messages mapped as both spam and non-spam: 2\n",
      "Maximum number of data points that can be kept after target balancing: 48934\n"
     ]
    }
   ],
   "source": [
    "# number of unique non-spam messages\n",
    "unique_nonspam_messages = clean_data[(clean_data['label'] == 0)]['message'].value_counts().count()\n",
    "# number of unique spam messages\n",
    "unique_spam_messages = clean_data[(clean_data['label'] == 1)]['message'].value_counts().count()\n",
    "total_unique_messages = unique_nonspam_messages + unique_spam_messages\n",
    "\n",
    "# Number of unique messages mapped as both spam and non-spam\n",
    "duplicate_message_count = total_unique_messages - unique_messages\n",
    "# Maximum number of data points after taking equal number of unique messages from each target class\n",
    "max_datapoints = int((unique_nonspam_messages - duplicate_message_count/2)*2)\n",
    "\n",
    "print(f'Number of unique spam messages: {unique_spam_messages}')\n",
    "print(f'Number of unique non-spam messages: {unique_nonspam_messages}')\n",
    "print(f'Number of unique messages mapped as both spam and non-spam: {duplicate_message_count}')\n",
    "print(f'Maximum number of data points that can be kept after target balancing: {max_datapoints}')"
   ]
  },
  {
   "cell_type": "markdown",
   "id": "dc17b66e",
   "metadata": {},
   "source": [
    "Next, we are sampling the data to get a balanced target of n unique message instances.\n",
    "First, we drop the duplicate messages from the filtered data using the drop_duplicates method, considering only the 'message' column. This makes sure that we dont have more than one unique message in our data irrespective of whom it was sent.<br>\n",
    "We can pick a maximum of 24468 unique values each from both spam and non-spam class to get a balanced target of non duplicated message feature.<br>\n",
    "Next, we use the sample method to randomly select 1000 rows for each label. Thus we will get a balanced target data.<br>\n",
    "The resulting DataFrame 'sampled_data' will contain 1000 rows for each label (0 and 1) with unique messages.\n",
    "It is made sure that the number of unique messages mapped as both spam and non-spam is zero."
   ]
  },
  {
   "cell_type": "code",
   "execution_count": 33,
   "id": "fd4c0eae",
   "metadata": {},
   "outputs": [
    {
     "name": "stdout",
     "output_type": "stream",
     "text": [
      "<class 'pandas.core.frame.DataFrame'>\n",
      "RangeIndex: 20000 entries, 0 to 19999\n",
      "Data columns (total 5 columns):\n",
      " #   Column      Non-Null Count  Dtype \n",
      "---  ------      --------------  ----- \n",
      " 0   label       20000 non-null  int64 \n",
      " 1   subject     20000 non-null  object\n",
      " 2   email_to    20000 non-null  object\n",
      " 3   email_from  20000 non-null  object\n",
      " 4   message     20000 non-null  object\n",
      "dtypes: int64(1), object(4)\n",
      "memory usage: 781.4+ KB\n"
     ]
    }
   ],
   "source": [
    "# Filter unique messages\n",
    "filtered_data = clean_data.drop_duplicates(subset='message')\n",
    "\n",
    "# Randomly sample 1000 rows for label 0\n",
    "label_0_sample = filtered_data[filtered_data['label'] == 0].sample(n=10000, random_state=42)\n",
    "\n",
    "# Randomly sample 1000 rows for label 1\n",
    "label_1_sample = filtered_data[filtered_data['label'] == 1].sample(n=10000, random_state=42)\n",
    "\n",
    "# Concatenate the sampled data\n",
    "sampled_data = pd.concat([label_0_sample, label_1_sample], ignore_index=True)\n",
    "\n",
    "# Print the sampled data\n",
    "sampled_data.info()"
   ]
  },
  {
   "cell_type": "code",
   "execution_count": null,
   "id": "fd4f5896",
   "metadata": {},
   "outputs": [],
   "source": []
  }
 ],
 "metadata": {
  "kernelspec": {
   "display_name": "Python 3 (ipykernel)",
   "language": "python",
   "name": "python3"
  },
  "language_info": {
   "codemirror_mode": {
    "name": "ipython",
    "version": 3
   },
   "file_extension": ".py",
   "mimetype": "text/x-python",
   "name": "python",
   "nbconvert_exporter": "python",
   "pygments_lexer": "ipython3",
   "version": "3.10.9"
  }
 },
 "nbformat": 4,
 "nbformat_minor": 5
}
